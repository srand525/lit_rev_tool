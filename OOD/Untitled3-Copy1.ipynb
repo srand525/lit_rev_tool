{
 "cells": [
  {
   "cell_type": "code",
   "execution_count": 1,
   "metadata": {},
   "outputs": [
    {
     "data": {
      "text/plain": [
       "<module 'helper' from '/Users/sophierand/Desktop/Github/lit_rev_tool/helper.py'>"
      ]
     },
     "execution_count": 1,
     "metadata": {},
     "output_type": "execute_result"
    }
   ],
   "source": [
    "# import run_search\n",
    "import run_all\n",
    "import json\n",
    "import pickle\n",
    "import importlib\n",
    "import helper\n",
    "import NCBIFetch\n",
    "import datetime\n",
    "import NCBISearch\n",
    "# import run_fetch\n",
    "# import clean_folder\n",
    "import PMCParse\n",
    "import PUBMEDParse\n",
    "# importlib.reload(PUBMEDParse)\n",
    "# importlib.reload(PMCParse)\n",
    "# importlib.reload(NCBIFetch)\n",
    "importlib.reload(helper)\n",
    "# # importlib.reload(run_search)\n",
    "# importlib.reload(run_all)"
   ]
  },
  {
   "cell_type": "code",
   "execution_count": 2,
   "metadata": {},
   "outputs": [
    {
     "name": "stdout",
     "output_type": "stream",
     "text": [
      "Connecting to database\n",
      "host='localhost' dbname= 'lit_rev' user='postgres' password='gres'\n"
     ]
    }
   ],
   "source": [
    "con,cur  = helper.connect_to_db()"
   ]
  },
  {
   "cell_type": "code",
   "execution_count": 3,
   "metadata": {},
   "outputs": [],
   "source": [
    "input_term = 'syndromic surveillance'\n",
    "input_db = 'pubmed'\n",
    "email_id = 'srand1@health.nyc.gov'"
   ]
  },
  {
   "cell_type": "code",
   "execution_count": 4,
   "metadata": {},
   "outputs": [],
   "source": [
    "run_all.main(input_term,input_db,email_id)"
   ]
  },
  {
   "cell_type": "code",
   "execution_count": null,
   "metadata": {},
   "outputs": [],
   "source": [
    "cur.execute(\"select distinct pullsource, associatedid from datapull_detail\")\n",
    "unique_ids = cur.fetchall()"
   ]
  },
  {
   "cell_type": "code",
   "execution_count": null,
   "metadata": {},
   "outputs": [],
   "source": [
    "json_path = \"unique_identifiers.json\"\n",
    "json_file = json.load(open(json_path,\"r\"))\n",
    "# json_file\n",
    "# json_file\n",
    "# most_recent = max(json_file,key = lambda x:x['run_date'])\n",
    "# most_recent"
   ]
  },
  {
   "cell_type": "code",
   "execution_count": 5,
   "metadata": {},
   "outputs": [
    {
     "data": {
      "text/html": [
       "<div>\n",
       "<style scoped>\n",
       "    .dataframe tbody tr th:only-of-type {\n",
       "        vertical-align: middle;\n",
       "    }\n",
       "\n",
       "    .dataframe tbody tr th {\n",
       "        vertical-align: top;\n",
       "    }\n",
       "\n",
       "    .dataframe thead th {\n",
       "        text-align: right;\n",
       "    }\n",
       "</style>\n",
       "<table border=\"1\" class=\"dataframe\">\n",
       "  <thead>\n",
       "    <tr style=\"text-align: right;\">\n",
       "      <th></th>\n",
       "      <th>abstract</th>\n",
       "      <th>associatedId</th>\n",
       "      <th>author</th>\n",
       "      <th>journalISO</th>\n",
       "      <th>journalName</th>\n",
       "      <th>meshterms</th>\n",
       "      <th>optionalId01</th>\n",
       "      <th>optionalId02</th>\n",
       "      <th>publishdate</th>\n",
       "      <th>publishdatefull</th>\n",
       "      <th>pubtype</th>\n",
       "      <th>pullsource</th>\n",
       "      <th>title</th>\n",
       "    </tr>\n",
       "  </thead>\n",
       "  <tbody>\n",
       "    <tr>\n",
       "      <th>0</th>\n",
       "      <td>[{'label': 'BACKGROUND', 'nlmcategory': 'BACKG...</td>\n",
       "      <td>27317431</td>\n",
       "      <td>[{'fname': 'Chuchu', 'lname': 'Ye', 'affl': 'R...</td>\n",
       "      <td>BMC Res Notes</td>\n",
       "      <td>BMC research notes</td>\n",
       "      <td>[{'descriptorname': 'Algorithms'}, {'descripto...</td>\n",
       "      <td>10.1186/s13104-016-2098-z</td>\n",
       "      <td>PMC4912801</td>\n",
       "      <td>{'year': '2016', 'month': '6', 'day': '19'}</td>\n",
       "      <td>6/19/2016</td>\n",
       "      <td>[Journal Article]</td>\n",
       "      <td>pubmed</td>\n",
       "      <td>SCM: a practical tool to implement hospital-ba...</td>\n",
       "    </tr>\n",
       "    <tr>\n",
       "      <th>1</th>\n",
       "      <td>[{'label': 'BACKGROUND', 'nlmcategory': 'BACKG...</td>\n",
       "      <td>26957967</td>\n",
       "      <td>[{'fname': 'Kangbai', 'lname': 'Jia', 'affl': ...</td>\n",
       "      <td>Afr Health Sci</td>\n",
       "      <td>African health sciences</td>\n",
       "      <td>[{'descriptorname': 'Cell Phone'}, {'descripto...</td>\n",
       "      <td>10.4314/ahs.v15i3.13</td>\n",
       "      <td>PMC4765450</td>\n",
       "      <td>{'year': '2016', 'month': '3', 'day': '10'}</td>\n",
       "      <td>3/10/2016</td>\n",
       "      <td>[Evaluation Studies, Journal Article]</td>\n",
       "      <td>pubmed</td>\n",
       "      <td>Evaluating the use of cell phone messaging for...</td>\n",
       "    </tr>\n",
       "    <tr>\n",
       "      <th>2</th>\n",
       "      <td>[{'label': 'BACKGROUND', 'nlmcategory': 'BACKG...</td>\n",
       "      <td>29122738</td>\n",
       "      <td>[{'fname': 'Daniel', 'lname': 'Olson', 'affl':...</td>\n",
       "      <td>J. Med. Internet Res.</td>\n",
       "      <td>Journal of medical Internet research</td>\n",
       "      <td>[{'descriptorname': 'Acute Disease'}, {'descri...</td>\n",
       "      <td>10.2196/jmir.8041</td>\n",
       "      <td>PMC5701088</td>\n",
       "      <td>{'year': '2017', 'month': '11', 'day': '11'}</td>\n",
       "      <td>11/11/2017</td>\n",
       "      <td>[Journal Article]</td>\n",
       "      <td>pubmed</td>\n",
       "      <td>Performance of a Mobile Phone App-Based Partic...</td>\n",
       "    </tr>\n",
       "    <tr>\n",
       "      <th>3</th>\n",
       "      <td>[{'label': 'BACKGROUND', 'nlmcategory': 'BACKG...</td>\n",
       "      <td>25889382</td>\n",
       "      <td>[{'fname': 'Gillian D', 'lname': 'Alton', 'aff...</td>\n",
       "      <td>BMC Vet. Res.</td>\n",
       "      <td>BMC veterinary research</td>\n",
       "      <td>[{'descriptorname': 'Abattoirs'}, {'descriptor...</td>\n",
       "      <td>10.1186/s12917-015-0349-1</td>\n",
       "      <td>PMC4336523</td>\n",
       "      <td>{'year': '2015', 'month': '4', 'day': '19'}</td>\n",
       "      <td>4/19/2015</td>\n",
       "      <td>[Journal Article, Research Support, Non-U.S. G...</td>\n",
       "      <td>pubmed</td>\n",
       "      <td>Suitability of sentinel abattoirs for syndromi...</td>\n",
       "    </tr>\n",
       "    <tr>\n",
       "      <th>4</th>\n",
       "      <td>[{'text': 'Introduction In preparation for the...</td>\n",
       "      <td>27641930</td>\n",
       "      <td>[{'fname': 'Dan', 'lname': 'Todkill', 'affl': ...</td>\n",
       "      <td>Prehosp Disaster Med</td>\n",
       "      <td>Prehospital and disaster medicine</td>\n",
       "      <td>[{'descriptorname': 'Anniversaries and Special...</td>\n",
       "      <td>10.1017/S1049023X16000923</td>\n",
       "      <td>None</td>\n",
       "      <td>{'year': '2016', 'month': '9', 'day': '20'}</td>\n",
       "      <td>9/20/2016</td>\n",
       "      <td>[Journal Article, Observational Study]</td>\n",
       "      <td>pubmed</td>\n",
       "      <td>An Observational Study Using English Syndromic...</td>\n",
       "    </tr>\n",
       "  </tbody>\n",
       "</table>\n",
       "</div>"
      ],
      "text/plain": [
       "                                            abstract associatedId  \\\n",
       "0  [{'label': 'BACKGROUND', 'nlmcategory': 'BACKG...     27317431   \n",
       "1  [{'label': 'BACKGROUND', 'nlmcategory': 'BACKG...     26957967   \n",
       "2  [{'label': 'BACKGROUND', 'nlmcategory': 'BACKG...     29122738   \n",
       "3  [{'label': 'BACKGROUND', 'nlmcategory': 'BACKG...     25889382   \n",
       "4  [{'text': 'Introduction In preparation for the...     27641930   \n",
       "\n",
       "                                              author             journalISO  \\\n",
       "0  [{'fname': 'Chuchu', 'lname': 'Ye', 'affl': 'R...          BMC Res Notes   \n",
       "1  [{'fname': 'Kangbai', 'lname': 'Jia', 'affl': ...         Afr Health Sci   \n",
       "2  [{'fname': 'Daniel', 'lname': 'Olson', 'affl':...  J. Med. Internet Res.   \n",
       "3  [{'fname': 'Gillian D', 'lname': 'Alton', 'aff...          BMC Vet. Res.   \n",
       "4  [{'fname': 'Dan', 'lname': 'Todkill', 'affl': ...   Prehosp Disaster Med   \n",
       "\n",
       "                            journalName  \\\n",
       "0                    BMC research notes   \n",
       "1               African health sciences   \n",
       "2  Journal of medical Internet research   \n",
       "3               BMC veterinary research   \n",
       "4     Prehospital and disaster medicine   \n",
       "\n",
       "                                           meshterms  \\\n",
       "0  [{'descriptorname': 'Algorithms'}, {'descripto...   \n",
       "1  [{'descriptorname': 'Cell Phone'}, {'descripto...   \n",
       "2  [{'descriptorname': 'Acute Disease'}, {'descri...   \n",
       "3  [{'descriptorname': 'Abattoirs'}, {'descriptor...   \n",
       "4  [{'descriptorname': 'Anniversaries and Special...   \n",
       "\n",
       "                optionalId01 optionalId02  \\\n",
       "0  10.1186/s13104-016-2098-z   PMC4912801   \n",
       "1       10.4314/ahs.v15i3.13   PMC4765450   \n",
       "2          10.2196/jmir.8041   PMC5701088   \n",
       "3  10.1186/s12917-015-0349-1   PMC4336523   \n",
       "4  10.1017/S1049023X16000923         None   \n",
       "\n",
       "                                    publishdate publishdatefull  \\\n",
       "0   {'year': '2016', 'month': '6', 'day': '19'}       6/19/2016   \n",
       "1   {'year': '2016', 'month': '3', 'day': '10'}       3/10/2016   \n",
       "2  {'year': '2017', 'month': '11', 'day': '11'}      11/11/2017   \n",
       "3   {'year': '2015', 'month': '4', 'day': '19'}       4/19/2015   \n",
       "4   {'year': '2016', 'month': '9', 'day': '20'}       9/20/2016   \n",
       "\n",
       "                                             pubtype pullsource  \\\n",
       "0                                  [Journal Article]     pubmed   \n",
       "1              [Evaluation Studies, Journal Article]     pubmed   \n",
       "2                                  [Journal Article]     pubmed   \n",
       "3  [Journal Article, Research Support, Non-U.S. G...     pubmed   \n",
       "4             [Journal Article, Observational Study]     pubmed   \n",
       "\n",
       "                                               title  \n",
       "0  SCM: a practical tool to implement hospital-ba...  \n",
       "1  Evaluating the use of cell phone messaging for...  \n",
       "2  Performance of a Mobile Phone App-Based Partic...  \n",
       "3  Suitability of sentinel abattoirs for syndromi...  \n",
       "4  An Observational Study Using English Syndromic...  "
      ]
     },
     "execution_count": 5,
     "metadata": {},
     "output_type": "execute_result"
    }
   ],
   "source": [
    "parse_df = helper.id_run('parse')\n",
    "parse_df.head()"
   ]
  },
  {
   "cell_type": "code",
   "execution_count": null,
   "metadata": {},
   "outputs": [],
   "source": [
    "import PUSH\n",
    "importlib.reload(PUSH)"
   ]
  },
  {
   "cell_type": "code",
   "execution_count": null,
   "metadata": {},
   "outputs": [],
   "source": [
    "cur_id, cur_id_tup = PUSH.pull_id(cur,con,input_term,input_db)"
   ]
  },
  {
   "cell_type": "code",
   "execution_count": null,
   "metadata": {},
   "outputs": [],
   "source": [
    "cur_id\n",
    "# cur_id_tup"
   ]
  },
  {
   "cell_type": "code",
   "execution_count": null,
   "metadata": {},
   "outputs": [],
   "source": [
    "# PUSH.pull_detail(cur,con,cur_id_tup,cur_id)"
   ]
  },
  {
   "cell_type": "code",
   "execution_count": null,
   "metadata": {},
   "outputs": [],
   "source": [
    "parse_list_fetch.iloc[0]"
   ]
  },
  {
   "cell_type": "code",
   "execution_count": null,
   "metadata": {},
   "outputs": [],
   "source": [
    "associated_id = parse_list_fetch.iloc[0]['associatedId']\n",
    "# pub_type = parse_list_fetch.iloc[0]['pubtype']\n",
    "pull_source = input_db\n",
    "value_store = 'store'\n",
    "optional_id_1 = parse_list_fetch.iloc[0]['optionalId01']\n",
    "optional_id_2 = None\n",
    "note = None\n",
    "detail_args = (cur_id, pull_source,associated_id,value_store,note,optional_id_1,optional_id_2)\n",
    "detail_args"
   ]
  },
  {
   "cell_type": "code",
   "execution_count": null,
   "metadata": {},
   "outputs": [],
   "source": [
    "detail_ins = \"\"\"INSERT INTO public.datapull_detail(\n",
    "pullid, pullsource, associatedid, valuestore, note, optionalid01, optionalid02)\n",
    "VALUES (%s, %s, %s, %s, %s, %s, %s);\"\"\"\n",
    "\n",
    "\n",
    "# cur.execute(detail_ins,detail_args)\n",
    "# con.commit()\n"
   ]
  },
  {
   "cell_type": "code",
   "execution_count": null,
   "metadata": {},
   "outputs": [],
   "source": [
    "cur.execute(\"\"\"SELECT pullsource from public.datapull_id  as a where a.pullid = %s\"\"\",cur_id_tup)\n",
    "cur.fetchall()[0][0]"
   ]
  },
  {
   "cell_type": "code",
   "execution_count": null,
   "metadata": {},
   "outputs": [],
   "source": []
  },
  {
   "cell_type": "code",
   "execution_count": null,
   "metadata": {},
   "outputs": [],
   "source": [
    "unique_id_list"
   ]
  },
  {
   "cell_type": "code",
   "execution_count": null,
   "metadata": {},
   "outputs": [],
   "source": [
    "cur_id, cur_id_tup = PUSH.pull_id(cur,con,input_term,input_db)"
   ]
  },
  {
   "cell_type": "code",
   "execution_count": null,
   "metadata": {},
   "outputs": [],
   "source": [
    "cur.execute(\"SELECT pullsource, associatedid from public.datapull_detail\")\n",
    "unique_id_list = cur.fetchall()\n",
    "note = None\n",
    "values_list = []\n",
    "for index, row in parse_df.iterrows():\n",
    "    pull_id = cur_id\n",
    "    associated_id = row['associatedId']\n",
    "    associated_id_int = int(associated_id)\n",
    "    optional_id_1 = row['optionalId01']\n",
    "    optional_id_2 = row['optionalId02']\n",
    "#     cur.execute(\"\"\"SELECT pullsource from public.datapull_id  as a where a.pullid = %s\"\"\",cur_id_tup)\n",
    "#     pull_source = cur.fetchall()[0][0]\n",
    "    if (pull_source,associated_id) not in unique_id_list:\n",
    "        value_store = 'store'\n",
    "    elif (pull_source,associated_id) in unique_id_list:\n",
    "        value_store = 'duplicate'\n",
    "        parse_df.drop(index, inplace = TRUE)\n",
    "    values_list.append((pull_id,pull_source,associated_id,value_store,note,optional_id_1,optional_id_2)) "
   ]
  },
  {
   "cell_type": "code",
   "execution_count": null,
   "metadata": {},
   "outputs": [],
   "source": [
    "detail_ins = \"\"\"INSERT INTO public.datapull_detail(\n",
    "pullid, pullsource, associatedid, valuestore, note, optionalid01, optionalid02)\n",
    "VALUES (%s, %s, %s, %s, %s, %s, %s);\"\"\""
   ]
  },
  {
   "cell_type": "code",
   "execution_count": null,
   "metadata": {},
   "outputs": [],
   "source": [
    "values_list"
   ]
  },
  {
   "cell_type": "code",
   "execution_count": null,
   "metadata": {},
   "outputs": [],
   "source": [
    "cur.executemany(detail_ins,values_list)\n"
   ]
  },
  {
   "cell_type": "code",
   "execution_count": null,
   "metadata": {},
   "outputs": [],
   "source": [
    "cur.execute(\"SELECT max(pullid) as NewID from public.datapull_id;\") "
   ]
  },
  {
   "cell_type": "code",
   "execution_count": null,
   "metadata": {},
   "outputs": [],
   "source": [
    "cur.execute(\"SELECT pullsource, associatedid from public.datapull_detail\")\n",
    "cur.fetchall()"
   ]
  },
  {
   "cell_type": "code",
   "execution_count": null,
   "metadata": {},
   "outputs": [],
   "source": [
    "cur.execute(\"SELECT * from public.datapull_detail\")\n",
    "cur.fetchall()"
   ]
  },
  {
   "cell_type": "code",
   "execution_count": null,
   "metadata": {},
   "outputs": [],
   "source": [
    "import PUSH\n",
    "importlib.reload(PUSH)"
   ]
  },
  {
   "cell_type": "code",
   "execution_count": null,
   "metadata": {},
   "outputs": [],
   "source": [
    "PUSH.pull_detail(cur = cur,con = con,current_id_tup=cur_id_tup,current_id=cur_id,parse_df = parse_df)"
   ]
  },
  {
   "cell_type": "code",
   "execution_count": null,
   "metadata": {},
   "outputs": [],
   "source": [
    "current_id_tup = cur_id_tup"
   ]
  },
  {
   "cell_type": "code",
   "execution_count": null,
   "metadata": {},
   "outputs": [],
   "source": [
    "cur.execute(\"\"\"SELECT pullsource from public.datapull_id  as a where a.pullid = %s\"\"\",current_id_tup)\n",
    "pull_source = cur.fetchall()[0][0]"
   ]
  },
  {
   "cell_type": "code",
   "execution_count": null,
   "metadata": {},
   "outputs": [],
   "source": [
    "pull_source"
   ]
  },
  {
   "cell_type": "code",
   "execution_count": null,
   "metadata": {},
   "outputs": [],
   "source": [
    "cur_id"
   ]
  },
  {
   "cell_type": "code",
   "execution_count": null,
   "metadata": {},
   "outputs": [],
   "source": [
    "parse_df"
   ]
  },
  {
   "cell_type": "code",
   "execution_count": null,
   "metadata": {},
   "outputs": [],
   "source": [
    "cur.execute(\"SELECT max(pullid) as NewID from public.datapull_id;\") \n",
    "cur_id_tup = cur.fetchall()\n",
    "cur_id = cur_id_tup[0][0]"
   ]
  }
 ],
 "metadata": {
  "kernelspec": {
   "display_name": "Python 3",
   "language": "python",
   "name": "python3"
  },
  "language_info": {
   "codemirror_mode": {
    "name": "ipython",
    "version": 3
   },
   "file_extension": ".py",
   "mimetype": "text/x-python",
   "name": "python",
   "nbconvert_exporter": "python",
   "pygments_lexer": "ipython3",
   "version": "3.6.3"
  }
 },
 "nbformat": 4,
 "nbformat_minor": 2
}
