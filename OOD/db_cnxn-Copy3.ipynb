{
 "cells": [
  {
   "cell_type": "code",
   "execution_count": 1,
   "metadata": {},
   "outputs": [],
   "source": [
    "import psycopg2\n",
    "import psycopg2.extras\n",
    "from psycopg2 import connect\n",
    "import sys\n",
    "from psycopg2.extensions import ISOLATION_LEVEL_AUTOCOMMIT\n",
    "import json\n",
    "# import pyodbc\n",
    "import string\n",
    "import datetime\n",
    "from datetime import date\n",
    "import pickle\n",
    "import random\n",
    "import helper\n",
    "import pandas as pd"
   ]
  },
  {
   "cell_type": "code",
   "execution_count": 2,
   "metadata": {},
   "outputs": [],
   "source": [
    "con = connect(\"host='localhost' dbname='lit_rev' user='postgres' password='gres'\")\n",
    "cur = con.cursor()"
   ]
  },
  {
   "cell_type": "code",
   "execution_count": 4,
   "metadata": {},
   "outputs": [],
   "source": [
    "id_ins = \"\"\"INSERT INTO public.datapull_id \n",
    "(pulldate, pullname, pullquery, pulltype, pullsource, pullby)\n",
    "VALUES (%s, %s,%s,%s,%s,%s);\"\"\""
   ]
  },
  {
   "cell_type": "code",
   "execution_count": 5,
   "metadata": {},
   "outputs": [],
   "source": [
    "# pull_id = 3\n",
    "pull_date = datetime.datetime.now().strftime('%m/%d/%Y %I:%M:%S %p')\n",
    "pull_name = 'terms'\n",
    "pull_query = 'terms'\n",
    "pull_type = 'keyword' #keyword/ author\n",
    "pull_source = 'db'.upper()\n",
    "pull_by = 'Sophie'\n",
    "id_args = (pull_date,pull_name,pull_query,pull_type,pull_source,pull_by)"
   ]
  },
  {
   "cell_type": "code",
   "execution_count": 35,
   "metadata": {},
   "outputs": [],
   "source": [
    "cur.execute(id_ins,id_args)\n",
    "cur_id_tup = cur.fetchall()\n",
    "cur_id = cur_id_tup[0][0]\n",
    "con.commit()"
   ]
  },
  {
   "cell_type": "code",
   "execution_count": 11,
   "metadata": {},
   "outputs": [],
   "source": [
    "cur.execute(\"\"\"SELECT pullsource from public.datapull_id  as a where a.pullid = %s\"\"\",cur_id_tup)\n",
    "db_source = cur.fetchall()[0][0]"
   ]
  },
  {
   "cell_type": "code",
   "execution_count": 36,
   "metadata": {},
   "outputs": [
    {
     "data": {
      "text/plain": [
       "2"
      ]
     },
     "execution_count": 36,
     "metadata": {},
     "output_type": "execute_result"
    }
   ],
   "source": [
    "cur_id"
   ]
  },
  {
   "cell_type": "code",
   "execution_count": 24,
   "metadata": {},
   "outputs": [],
   "source": [
    "detail_ins = \"\"\"INSERT INTO public.datapull_detail(\n",
    "pullid, pullsource, associatedid, valuestore, note, pubtype, optionalid01, optionalid02)\n",
    "VALUES (%s, %s,%s,%s,%s,%s,%s,%s);\"\"\""
   ]
  },
  {
   "cell_type": "code",
   "execution_count": 33,
   "metadata": {},
   "outputs": [
    {
     "data": {
      "text/plain": [
       "(14, 'db_sources', 'a', 'b', 'c', 'd', 'e', 'f')"
      ]
     },
     "execution_count": 33,
     "metadata": {},
     "output_type": "execute_result"
    }
   ],
   "source": [
    "detail_args = (cur_id,'db_sources','a','b','c','d','e','f')\n",
    "detail_args"
   ]
  },
  {
   "cell_type": "code",
   "execution_count": 34,
   "metadata": {},
   "outputs": [],
   "source": [
    "cur.execute(detail_ins,detail_args)\n",
    "con.commit()"
   ]
  },
  {
   "cell_type": "code",
   "execution_count": 23,
   "metadata": {},
   "outputs": [
    {
     "data": {
      "text/plain": [
       "14"
      ]
     },
     "execution_count": 23,
     "metadata": {},
     "output_type": "execute_result"
    }
   ],
   "source": [
    "cur_id"
   ]
  },
  {
   "cell_type": "code",
   "execution_count": null,
   "metadata": {},
   "outputs": [],
   "source": []
  }
 ],
 "metadata": {
  "kernelspec": {
   "display_name": "Python 3",
   "language": "python",
   "name": "python3"
  },
  "language_info": {
   "codemirror_mode": {
    "name": "ipython",
    "version": 3
   },
   "file_extension": ".py",
   "mimetype": "text/x-python",
   "name": "python",
   "nbconvert_exporter": "python",
   "pygments_lexer": "ipython3",
   "version": "3.6.3"
  }
 },
 "nbformat": 4,
 "nbformat_minor": 2
}
