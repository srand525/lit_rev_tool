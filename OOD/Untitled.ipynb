{
 "cells": [
  {
   "cell_type": "code",
   "execution_count": 32,
   "metadata": {},
   "outputs": [
    {
     "data": {
      "text/plain": [
       "<module 'NCBIPush' from '/Users/sophierand/Desktop/Github/lit_rev_tool/NCBIPush.py'>"
      ]
     },
     "execution_count": 32,
     "metadata": {},
     "output_type": "execute_result"
    }
   ],
   "source": [
    "# import run_search\n",
    "import run_all\n",
    "import json\n",
    "import pickle\n",
    "import importlib\n",
    "import pandas as pd\n",
    "import helper\n",
    "import NCBIFetch\n",
    "import datetime\n",
    "import NCBISearch\n",
    "import PMCParse\n",
    "import PUBMEDParse\n",
    "# importlib.reload(PUBMEDParse)\n",
    "# importlib.reload(PMCParse)\n",
    "# importlib.reload(NCBIFetch)\n",
    "importlib.reload(helper)\n",
    "# # importlib.reload(run_search)\n",
    "importlib.reload(run_all)\n",
    "# import newPush\n",
    "# importlib.reload(newPush)\n",
    "import NCBIPush\n",
    "importlib.reload(NCBIPush)"
   ]
  },
  {
   "cell_type": "code",
   "execution_count": 33,
   "metadata": {},
   "outputs": [
    {
     "name": "stdout",
     "output_type": "stream",
     "text": [
      "Connecting to database\n",
      "host='localhost' dbname= 'lit_rev' user='postgres' password='gres'\n"
     ]
    }
   ],
   "source": [
    "con,cur  = helper.connect_to_db()"
   ]
  },
  {
   "cell_type": "code",
   "execution_count": 34,
   "metadata": {},
   "outputs": [],
   "source": [
    "input_term = 'syndromic surveillance AND emergency room'\n",
    "input_db = 'pubmed'\n",
    "email_id = 'srand1@health.nyc.gov'"
   ]
  },
  {
   "cell_type": "code",
   "execution_count": 35,
   "metadata": {},
   "outputs": [],
   "source": [
    "run_all.main(input_term,input_db,email_id)"
   ]
  },
  {
   "cell_type": "code",
   "execution_count": 36,
   "metadata": {},
   "outputs": [
    {
     "name": "stdout",
     "output_type": "stream",
     "text": [
      "Connecting to database\n",
      "host='localhost' dbname= 'lit_rev' user='postgres' password='gres'\n"
     ]
    }
   ],
   "source": [
    "run_all.main_push(input_term)"
   ]
  },
  {
   "cell_type": "code",
   "execution_count": 5,
   "metadata": {},
   "outputs": [],
   "source": [
    "parse_df = helper.id_run('parse')\n",
    "# parse_df.head()"
   ]
  },
  {
   "cell_type": "code",
   "execution_count": 15,
   "metadata": {},
   "outputs": [],
   "source": [
    "values_list = []\n",
    "for index, row in new_data.iterrows():\n",
    "    associated_id = row['associatedId']\n",
    "    pull_source = row['pullsource']\n",
    "    values_list.append((associated_id,pull_source))"
   ]
  },
  {
   "cell_type": "code",
   "execution_count": 16,
   "metadata": {},
   "outputs": [
    {
     "data": {
      "text/plain": [
       "[('28692394', 'pubmed'),\n",
       " ('25065517', 'pubmed'),\n",
       " ('26415918', 'pubmed'),\n",
       " ('28692384', 'pubmed'),\n",
       " ('28692388', 'pubmed'),\n",
       " ('24058494', 'pubmed'),\n",
       " ('28188203', 'pubmed'),\n",
       " ('28692391', 'pubmed'),\n",
       " ('28543608', 'pubmed'),\n",
       " ('22366039', 'pubmed')]"
      ]
     },
     "execution_count": 16,
     "metadata": {},
     "output_type": "execute_result"
    }
   ],
   "source": [
    "values_list"
   ]
  },
  {
   "cell_type": "code",
   "execution_count": 17,
   "metadata": {},
   "outputs": [],
   "source": [
    "unique_id_inst = \"\"\"INSERT INTO public.datapull_uniqueid(\n",
    "    associatedid, pullsource)\n",
    "    VALUES (%s, %s);\n",
    "    select currval('datapull_uniqueid_uniqueid_seq');\"\"\""
   ]
  },
  {
   "cell_type": "code",
   "execution_count": 20,
   "metadata": {},
   "outputs": [],
   "source": [
    "cur.executemany(unique_id_inst,values_list)\n",
    "con.commit()"
   ]
  },
  {
   "cell_type": "code",
   "execution_count": 27,
   "metadata": {},
   "outputs": [],
   "source": [
    "con,cur  = helper.connect_to_db()\n",
    "parse_df = helper.id_run('parse')\n",
    "cur_id,cur_id_tup = NCBIPush.push_id(cur,con,input_term,parse_df)\n",
    "new_data = NCBIPush.push_detail(cur,con,parse_df,cur_id,cur_id_tup)\n",
    "NCBIPush.push_unique_id(cur,con,new_data)\n",
    "full_df = NCBIPush.merge_ids(cur,con,new_data)\n",
    "NCBIPush.push_title(cur,con,full_df)\n",
    "NCBIPush.push_author(cur,con,full_df)\n",
    "NCBIPush.push_keyword(cur,con,full_df)\n",
    "NCBIPush.push_text(cur,con,full_df)"
   ]
  },
  {
   "cell_type": "code",
   "execution_count": 12,
   "metadata": {},
   "outputs": [],
   "source": [
    "cur_id,cur_id_tup = newPush.push_id(cur,con,input_term,parse_df)"
   ]
  },
  {
   "cell_type": "code",
   "execution_count": 15,
   "metadata": {},
   "outputs": [],
   "source": [
    "new_data = newPush.push_detail(cur,con,parse_df,cur_id,cur_id_tup)"
   ]
  },
  {
   "cell_type": "code",
   "execution_count": 50,
   "metadata": {},
   "outputs": [],
   "source": [
    "full_df = newPush.merge_ids(cur,con,new_data)"
   ]
  },
  {
   "cell_type": "code",
   "execution_count": 69,
   "metadata": {},
   "outputs": [],
   "source": [
    "# full_df.head()\n",
    "newPush.push_title(cur,con,full_df)"
   ]
  },
  {
   "cell_type": "code",
   "execution_count": 23,
   "metadata": {},
   "outputs": [],
   "source": [
    "# cur_unique_id_tup = cur.fetchall()\n",
    "# cur_unique_id = cur_unique_id_tup[0][0]\n",
    "# con.commit()"
   ]
  },
  {
   "cell_type": "code",
   "execution_count": 88,
   "metadata": {},
   "outputs": [],
   "source": [
    "newPush.push_author(cur,con,full_df)"
   ]
  },
  {
   "cell_type": "code",
   "execution_count": 96,
   "metadata": {},
   "outputs": [],
   "source": [
    "newPush.push_keyword(cur,con,full_df)"
   ]
  },
  {
   "cell_type": "code",
   "execution_count": 101,
   "metadata": {},
   "outputs": [],
   "source": [
    "newPush.push_text(cur,con,full_df)"
   ]
  },
  {
   "cell_type": "code",
   "execution_count": null,
   "metadata": {},
   "outputs": [],
   "source": []
  }
 ],
 "metadata": {
  "kernelspec": {
   "display_name": "Python 3",
   "language": "python",
   "name": "python3"
  },
  "language_info": {
   "codemirror_mode": {
    "name": "ipython",
    "version": 3
   },
   "file_extension": ".py",
   "mimetype": "text/x-python",
   "name": "python",
   "nbconvert_exporter": "python",
   "pygments_lexer": "ipython3",
   "version": "3.6.3"
  }
 },
 "nbformat": 4,
 "nbformat_minor": 2
}
