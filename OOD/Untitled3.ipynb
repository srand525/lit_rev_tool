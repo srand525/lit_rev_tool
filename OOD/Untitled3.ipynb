{
 "cells": [
  {
   "cell_type": "code",
   "execution_count": 14,
   "metadata": {},
   "outputs": [
    {
     "data": {
      "text/plain": [
       "<module 'newPush' from '/Users/sophierand/Desktop/Github/lit_rev_tool/newPush.py'>"
      ]
     },
     "execution_count": 14,
     "metadata": {},
     "output_type": "execute_result"
    }
   ],
   "source": [
    "# import run_search\n",
    "import run_all\n",
    "import json\n",
    "import pickle\n",
    "import importlib\n",
    "import helper\n",
    "import NCBIFetch\n",
    "import datetime\n",
    "import NCBISearch\n",
    "# import run_fetch\n",
    "# import clean_folder\n",
    "import PMCParse\n",
    "import PUBMEDParse\n",
    "# importlib.reload(PUBMEDParse)\n",
    "# importlib.reload(PMCParse)\n",
    "# importlib.reload(NCBIFetch)\n",
    "importlib.reload(helper)\n",
    "# # importlib.reload(run_search)\n",
    "# importlib.reload(run_all)\n",
    "import newPush\n",
    "importlib.reload(newPush)"
   ]
  },
  {
   "cell_type": "code",
   "execution_count": 5,
   "metadata": {},
   "outputs": [
    {
     "name": "stdout",
     "output_type": "stream",
     "text": [
      "Connecting to database\n",
      "host='localhost' dbname= 'lit_rev' user='postgres' password='gres'\n"
     ]
    }
   ],
   "source": [
    "con,cur  = helper.connect_to_db()"
   ]
  },
  {
   "cell_type": "code",
   "execution_count": 7,
   "metadata": {},
   "outputs": [],
   "source": [
    "input_term = 'syndromic surveillance'\n",
    "input_db = 'pubmed'\n",
    "email_id = 'srand1@health.nyc.gov'"
   ]
  },
  {
   "cell_type": "code",
   "execution_count": null,
   "metadata": {},
   "outputs": [],
   "source": [
    "run_all.main(input_term,input_db,email_id)"
   ]
  },
  {
   "cell_type": "code",
   "execution_count": 6,
   "metadata": {},
   "outputs": [],
   "source": [
    "parse_df = helper.id_run('parse')\n",
    "# parse_df.head()\n",
    "# parse_df = parse_df_full.head()"
   ]
  },
  {
   "cell_type": "code",
   "execution_count": 9,
   "metadata": {},
   "outputs": [],
   "source": [
    "cur_id,cur_id_tup = newPush.push_id(cur,con,input_term,parse_df)"
   ]
  },
  {
   "cell_type": "code",
   "execution_count": 10,
   "metadata": {},
   "outputs": [],
   "source": [
    "new_data = newPush.push_detail(cur,con,parse_df,cur_id,cur_id_tup)"
   ]
  },
  {
   "cell_type": "code",
   "execution_count": 15,
   "metadata": {},
   "outputs": [
    {
     "ename": "ProgrammingError",
     "evalue": "no results to fetch",
     "output_type": "error",
     "traceback": [
      "\u001b[0;31m---------------------------------------------------------------------------\u001b[0m",
      "\u001b[0;31mProgrammingError\u001b[0m                          Traceback (most recent call last)",
      "\u001b[0;32m<ipython-input-15-bb36c8ca6cd8>\u001b[0m in \u001b[0;36m<module>\u001b[0;34m()\u001b[0m\n\u001b[0;32m----> 1\u001b[0;31m \u001b[0mcur_unique_id\u001b[0m\u001b[0;34m,\u001b[0m \u001b[0mcur_unique_id_tup\u001b[0m \u001b[0;34m=\u001b[0m \u001b[0mnewPush\u001b[0m\u001b[0;34m.\u001b[0m\u001b[0mpush_unique_id\u001b[0m\u001b[0;34m(\u001b[0m\u001b[0mcur\u001b[0m\u001b[0;34m,\u001b[0m\u001b[0mcon\u001b[0m\u001b[0;34m,\u001b[0m\u001b[0mnew_data\u001b[0m\u001b[0;34m)\u001b[0m\u001b[0;34m\u001b[0m\u001b[0m\n\u001b[0m",
      "\u001b[0;32m~/Desktop/Github/lit_rev_tool/newPush.py\u001b[0m in \u001b[0;36mpush_unique_id\u001b[0;34m(cur, con, new_data_df)\u001b[0m\n\u001b[1;32m     74\u001b[0m \u001b[0;34m\u001b[0m\u001b[0m\n\u001b[1;32m     75\u001b[0m     \u001b[0mcur\u001b[0m\u001b[0;34m.\u001b[0m\u001b[0mexecutemany\u001b[0m\u001b[0;34m(\u001b[0m\u001b[0munique_id_inst\u001b[0m\u001b[0;34m,\u001b[0m\u001b[0mvalues_list\u001b[0m\u001b[0;34m)\u001b[0m\u001b[0;34m\u001b[0m\u001b[0m\n\u001b[0;32m---> 76\u001b[0;31m     \u001b[0mcur_unique_id_tup\u001b[0m \u001b[0;34m=\u001b[0m \u001b[0mcur\u001b[0m\u001b[0;34m.\u001b[0m\u001b[0mfetchall\u001b[0m\u001b[0;34m(\u001b[0m\u001b[0;34m)\u001b[0m\u001b[0;34m\u001b[0m\u001b[0m\n\u001b[0m\u001b[1;32m     77\u001b[0m     \u001b[0mcur_unique_id\u001b[0m \u001b[0;34m=\u001b[0m \u001b[0mcur_unique_id_tup\u001b[0m\u001b[0;34m[\u001b[0m\u001b[0;36m0\u001b[0m\u001b[0;34m]\u001b[0m\u001b[0;34m[\u001b[0m\u001b[0;36m0\u001b[0m\u001b[0;34m]\u001b[0m\u001b[0;34m\u001b[0m\u001b[0m\n\u001b[1;32m     78\u001b[0m     \u001b[0mcon\u001b[0m\u001b[0;34m.\u001b[0m\u001b[0mcommit\u001b[0m\u001b[0;34m(\u001b[0m\u001b[0;34m)\u001b[0m\u001b[0;34m\u001b[0m\u001b[0m\n",
      "\u001b[0;31mProgrammingError\u001b[0m: no results to fetch"
     ]
    }
   ],
   "source": [
    "cur_unique_id, cur_unique_id_tup = newPush.push_unique_id(cur,con,new_data)"
   ]
  },
  {
   "cell_type": "code",
   "execution_count": 12,
   "metadata": {},
   "outputs": [
    {
     "ename": "IndexError",
     "evalue": "tuple index out of range",
     "output_type": "error",
     "traceback": [
      "\u001b[0;31m---------------------------------------------------------------------------\u001b[0m",
      "\u001b[0;31mIndexError\u001b[0m                                Traceback (most recent call last)",
      "\u001b[0;32m<ipython-input-12-a90be468a528>\u001b[0m in \u001b[0;36m<module>\u001b[0;34m()\u001b[0m\n\u001b[0;32m----> 1\u001b[0;31m \u001b[0mnewPush\u001b[0m\u001b[0;34m.\u001b[0m\u001b[0mpush_title\u001b[0m\u001b[0;34m(\u001b[0m\u001b[0mcur\u001b[0m\u001b[0;34m,\u001b[0m\u001b[0mcon\u001b[0m\u001b[0;34m,\u001b[0m\u001b[0mnew_data\u001b[0m\u001b[0;34m)\u001b[0m\u001b[0;34m\u001b[0m\u001b[0m\n\u001b[0m",
      "\u001b[0;32m~/Desktop/Github/lit_rev_tool/newPush.py\u001b[0m in \u001b[0;36mpush_title\u001b[0;34m(cur, con, new_data_df)\u001b[0m\n\u001b[1;32m    103\u001b[0m         \u001b[0mvalues_list\u001b[0m\u001b[0;34m.\u001b[0m\u001b[0mappend\u001b[0m\u001b[0;34m(\u001b[0m\u001b[0;34m(\u001b[0m\u001b[0mtitle\u001b[0m\u001b[0;34m,\u001b[0m\u001b[0mjournal_name\u001b[0m\u001b[0;34m,\u001b[0m\u001b[0mjournal_iso\u001b[0m\u001b[0;34m,\u001b[0m\u001b[0mpub_type\u001b[0m\u001b[0;34m,\u001b[0m\u001b[0mpublication_date\u001b[0m\u001b[0;34m,\u001b[0m\u001b[0mpub_day\u001b[0m\u001b[0;34m,\u001b[0m\u001b[0mpub_month\u001b[0m\u001b[0;34m,\u001b[0m\u001b[0mpub_year\u001b[0m\u001b[0;34m)\u001b[0m\u001b[0;34m)\u001b[0m\u001b[0;34m\u001b[0m\u001b[0m\n\u001b[1;32m    104\u001b[0m \u001b[0;34m\u001b[0m\u001b[0m\n\u001b[0;32m--> 105\u001b[0;31m     \u001b[0mcur\u001b[0m\u001b[0;34m.\u001b[0m\u001b[0mexecutemany\u001b[0m\u001b[0;34m(\u001b[0m\u001b[0mtitle_ins\u001b[0m\u001b[0;34m,\u001b[0m\u001b[0mvalues_list\u001b[0m\u001b[0;34m)\u001b[0m\u001b[0;34m\u001b[0m\u001b[0m\n\u001b[0m\u001b[1;32m    106\u001b[0m     \u001b[0;31m# current_unique_id_tup = cur.fetchall()\u001b[0m\u001b[0;34m\u001b[0m\u001b[0;34m\u001b[0m\u001b[0m\n\u001b[1;32m    107\u001b[0m     \u001b[0;31m# current_unique_id = current_unique_id_tup[0][0]\u001b[0m\u001b[0;34m\u001b[0m\u001b[0;34m\u001b[0m\u001b[0m\n",
      "\u001b[0;31mIndexError\u001b[0m: tuple index out of range"
     ]
    }
   ],
   "source": [
    "newPush.push_title(cur,con,new_data)"
   ]
  },
  {
   "cell_type": "code",
   "execution_count": null,
   "metadata": {},
   "outputs": [],
   "source": [
    "push_inst = newPush.push_data(cur,con,parse_df,input_term)"
   ]
  },
  {
   "cell_type": "code",
   "execution_count": null,
   "metadata": {},
   "outputs": [],
   "source": [
    "current_id, current_id_tup = push_inst.push_id()"
   ]
  },
  {
   "cell_type": "code",
   "execution_count": null,
   "metadata": {},
   "outputs": [],
   "source": [
    "new_df = push_inst.push_detail(current_id,current_id_tup)"
   ]
  },
  {
   "cell_type": "code",
   "execution_count": null,
   "metadata": {},
   "outputs": [],
   "source": [
    "push_inst.push_unique_id(new_df)"
   ]
  },
  {
   "cell_type": "code",
   "execution_count": null,
   "metadata": {},
   "outputs": [],
   "source": [
    "push_inst.push_title(new_df)"
   ]
  },
  {
   "cell_type": "code",
   "execution_count": null,
   "metadata": {},
   "outputs": [],
   "source": [
    "title_ins = \"\"\"INSERT INTO public.datapull_title(\n",
    "associatedid, pullsource, title, journalname, journaliso, pubtype, publicationdate, pubday, pubmonth, pubyear)\n",
    "VALUES (%s, %s, %s, %s, %s, %s, %s, %s, %s, %s);\"\"\"\n",
    "# select currval('datapull_title_unique_id_seq');"
   ]
  },
  {
   "cell_type": "code",
   "execution_count": null,
   "metadata": {},
   "outputs": [],
   "source": [
    "values_list = []\n",
    "for index, row in new_df.iterrows():\n",
    "    associated_id = row['associatedId']\n",
    "#     associated_id_int = int(associated_id)\n",
    "    pull_source = row['pullsource']\n",
    "    title = row['title']\n",
    "    journal_name = row['journalName']\n",
    "    journal_iso = row['journalISO']\n",
    "    pub_type = row['pubtype']\n",
    "    publication_date = row['publishdatefull']\n",
    "    try:\n",
    "        pub_day = row['publishdate']['day']\n",
    "    except:\n",
    "        pub_day = None\n",
    "    try:\n",
    "        pub_month = row['publishdate']['month']\n",
    "    except:\n",
    "        pub_month = None\n",
    "    try:\n",
    "        pub_year = row['publishdate']['year']\n",
    "    except:\n",
    "        pub_year = None\n",
    "\n",
    "    values_list.append((associated_id,pull_source,title,journal_name,journal_iso,pub_type,publication_date,pub_day,pub_month,pub_year))\n",
    "    \n",
    "# values_list"
   ]
  },
  {
   "cell_type": "code",
   "execution_count": null,
   "metadata": {},
   "outputs": [],
   "source": [
    "cur.executemany(title_ins,values_list)\n",
    "# current_unique_id_tup = cur.fetchall()\n",
    "# current_unique_id = current_unique_id_tup[0][0]\n",
    "con.commit()"
   ]
  },
  {
   "cell_type": "code",
   "execution_count": null,
   "metadata": {},
   "outputs": [],
   "source": [
    "cur.fetchall()"
   ]
  },
  {
   "cell_type": "code",
   "execution_count": null,
   "metadata": {},
   "outputs": [],
   "source": [
    "len(values_list)"
   ]
  },
  {
   "cell_type": "code",
   "execution_count": null,
   "metadata": {},
   "outputs": [],
   "source": [
    "cur.executemany(title_ins,values_list)\n",
    "con.commit()"
   ]
  },
  {
   "cell_type": "code",
   "execution_count": null,
   "metadata": {},
   "outputs": [],
   "source": [
    "cur.execute(title_ins, args)\n",
    "pk_id_tup = cur.fetchall()\n",
    "con.commit()"
   ]
  },
  {
   "cell_type": "code",
   "execution_count": null,
   "metadata": {},
   "outputs": [],
   "source": [
    "# pk_id_tup\n",
    "pk_id = pk_id_tup[0][0]"
   ]
  },
  {
   "cell_type": "code",
   "execution_count": null,
   "metadata": {},
   "outputs": [],
   "source": [
    "parse_df.pullsource.unique().item()"
   ]
  },
  {
   "cell_type": "code",
   "execution_count": null,
   "metadata": {},
   "outputs": [],
   "source": [
    "import PUSH\n",
    "importlib.reload(PUSH)"
   ]
  },
  {
   "cell_type": "code",
   "execution_count": null,
   "metadata": {},
   "outputs": [],
   "source": [
    "cur_id, cur_id_tup = PUSH.pull_id(cur,con,input_term,input_db)"
   ]
  },
  {
   "cell_type": "code",
   "execution_count": null,
   "metadata": {},
   "outputs": [],
   "source": [
    "cur_id\n",
    "# cur_id_tup"
   ]
  },
  {
   "cell_type": "code",
   "execution_count": null,
   "metadata": {},
   "outputs": [],
   "source": [
    "# PUSH.pull_detail(cur,con,cur_id_tup,cur_id)"
   ]
  },
  {
   "cell_type": "code",
   "execution_count": null,
   "metadata": {},
   "outputs": [],
   "source": [
    "parse_list_fetch.iloc[0]"
   ]
  },
  {
   "cell_type": "code",
   "execution_count": null,
   "metadata": {},
   "outputs": [],
   "source": [
    "associated_id = parse_list_fetch.iloc[0]['associatedId']\n",
    "# pub_type = parse_list_fetch.iloc[0]['pubtype']\n",
    "pull_source = input_db\n",
    "value_store = 'store'\n",
    "optional_id_1 = parse_list_fetch.iloc[0]['optionalId01']\n",
    "optional_id_2 = None\n",
    "note = None\n",
    "detail_args = (cur_id, pull_source,associated_id,value_store,note,optional_id_1,optional_id_2)\n",
    "detail_args"
   ]
  },
  {
   "cell_type": "code",
   "execution_count": null,
   "metadata": {},
   "outputs": [],
   "source": [
    "detail_ins = \"\"\"INSERT INTO public.datapull_detail(\n",
    "pullid, pullsource, associatedid, valuestore, note, optionalid01, optionalid02)\n",
    "VALUES (%s, %s, %s, %s, %s, %s, %s);\"\"\"\n",
    "\n",
    "\n",
    "# cur.execute(detail_ins,detail_args)\n",
    "# con.commit()\n"
   ]
  },
  {
   "cell_type": "code",
   "execution_count": null,
   "metadata": {},
   "outputs": [],
   "source": [
    "cur.execute(\"\"\"SELECT pullsource from public.datapull_id  as a where a.pullid = %s\"\"\",cur_id_tup)\n",
    "cur.fetchall()[0][0]"
   ]
  },
  {
   "cell_type": "code",
   "execution_count": null,
   "metadata": {},
   "outputs": [],
   "source": []
  },
  {
   "cell_type": "code",
   "execution_count": null,
   "metadata": {},
   "outputs": [],
   "source": [
    "unique_id_list"
   ]
  },
  {
   "cell_type": "code",
   "execution_count": null,
   "metadata": {},
   "outputs": [],
   "source": [
    "cur_id, cur_id_tup = PUSH.pull_id(cur,con,input_term,input_db)"
   ]
  },
  {
   "cell_type": "code",
   "execution_count": null,
   "metadata": {},
   "outputs": [],
   "source": [
    "cur.execute(\"SELECT pullsource, associatedid from public.datapull_detail\")\n",
    "unique_id_list = cur.fetchall()\n",
    "note = None\n",
    "values_list = []\n",
    "for index, row in parse_df.iterrows():\n",
    "    pull_id = cur_id\n",
    "    associated_id = row['associatedId']\n",
    "    associated_id_int = int(associated_id)\n",
    "    optional_id_1 = row['optionalId01']\n",
    "    optional_id_2 = row['optionalId02']\n",
    "#     cur.execute(\"\"\"SELECT pullsource from public.datapull_id  as a where a.pullid = %s\"\"\",cur_id_tup)\n",
    "#     pull_source = cur.fetchall()[0][0]\n",
    "    if (pull_source,associated_id) not in unique_id_list:\n",
    "        value_store = 'store'\n",
    "    elif (pull_source,associated_id) in unique_id_list:\n",
    "        value_store = 'duplicate'\n",
    "        parse_df.drop(index, inplace = TRUE)\n",
    "    values_list.append((pull_id,pull_source,associated_id,value_store,note,optional_id_1,optional_id_2)) "
   ]
  },
  {
   "cell_type": "code",
   "execution_count": null,
   "metadata": {},
   "outputs": [],
   "source": [
    "detail_ins = \"\"\"INSERT INTO public.datapull_detail(\n",
    "pullid, pullsource, associatedid, valuestore, note, optionalid01, optionalid02)\n",
    "VALUES (%s, %s, %s, %s, %s, %s, %s);\"\"\""
   ]
  },
  {
   "cell_type": "code",
   "execution_count": null,
   "metadata": {},
   "outputs": [],
   "source": [
    "values_list"
   ]
  },
  {
   "cell_type": "code",
   "execution_count": null,
   "metadata": {},
   "outputs": [],
   "source": [
    "cur.executemany(detail_ins,values_list)\n"
   ]
  },
  {
   "cell_type": "code",
   "execution_count": null,
   "metadata": {},
   "outputs": [],
   "source": [
    "cur.execute(\"SELECT max(pullid) as NewID from public.datapull_id;\") "
   ]
  },
  {
   "cell_type": "code",
   "execution_count": null,
   "metadata": {},
   "outputs": [],
   "source": [
    "cur.execute(\"SELECT pullsource, associatedid from public.datapull_detail\")\n",
    "cur.fetchall()"
   ]
  },
  {
   "cell_type": "code",
   "execution_count": null,
   "metadata": {},
   "outputs": [],
   "source": [
    "cur.execute(\"SELECT * from public.datapull_detail\")\n",
    "cur.fetchall()"
   ]
  },
  {
   "cell_type": "code",
   "execution_count": null,
   "metadata": {},
   "outputs": [],
   "source": [
    "import PUSH\n",
    "importlib.reload(PUSH)"
   ]
  },
  {
   "cell_type": "code",
   "execution_count": null,
   "metadata": {},
   "outputs": [],
   "source": [
    "PUSH.pull_detail(cur = cur,con = con,current_id_tup=cur_id_tup,current_id=cur_id,parse_df = parse_df)"
   ]
  },
  {
   "cell_type": "code",
   "execution_count": null,
   "metadata": {},
   "outputs": [],
   "source": [
    "current_id_tup = cur_id_tup"
   ]
  },
  {
   "cell_type": "code",
   "execution_count": null,
   "metadata": {},
   "outputs": [],
   "source": [
    "cur.execute(\"\"\"SELECT pullsource from public.datapull_id  as a where a.pullid = %s\"\"\",current_id_tup)\n",
    "pull_source = cur.fetchall()[0][0]"
   ]
  },
  {
   "cell_type": "code",
   "execution_count": null,
   "metadata": {},
   "outputs": [],
   "source": [
    "pull_source"
   ]
  },
  {
   "cell_type": "code",
   "execution_count": null,
   "metadata": {},
   "outputs": [],
   "source": [
    "cur_id"
   ]
  },
  {
   "cell_type": "code",
   "execution_count": null,
   "metadata": {},
   "outputs": [],
   "source": [
    "parse_df"
   ]
  },
  {
   "cell_type": "code",
   "execution_count": null,
   "metadata": {},
   "outputs": [],
   "source": [
    "cur.execute(\"SELECT max(pullid) as NewID from public.datapull_id;\") \n",
    "cur_id_tup = cur.fetchall()\n",
    "cur_id = cur_id_tup[0][0]"
   ]
  }
 ],
 "metadata": {
  "kernelspec": {
   "display_name": "Python 3",
   "language": "python",
   "name": "python3"
  },
  "language_info": {
   "codemirror_mode": {
    "name": "ipython",
    "version": 3
   },
   "file_extension": ".py",
   "mimetype": "text/x-python",
   "name": "python",
   "nbconvert_exporter": "python",
   "pygments_lexer": "ipython3",
   "version": "3.6.3"
  }
 },
 "nbformat": 4,
 "nbformat_minor": 2
}
