{
 "cells": [
  {
   "cell_type": "code",
   "execution_count": 8,
   "metadata": {},
   "outputs": [],
   "source": [
    "import helper\n",
    "import requests\n",
    "import importlib\n",
    "import run_all\n",
    "import pandas as pd"
   ]
  },
  {
   "cell_type": "code",
   "execution_count": 9,
   "metadata": {},
   "outputs": [
    {
     "name": "stdout",
     "output_type": "stream",
     "text": [
      "Connecting to database\n",
      "host='localhost' dbname= 'lit_rev' user='postgres' password='gres'\n"
     ]
    }
   ],
   "source": [
    "con,cur = helper.connect_to_db()"
   ]
  },
  {
   "cell_type": "code",
   "execution_count": 10,
   "metadata": {},
   "outputs": [],
   "source": [
    "# cur.execute(\"\"\"SELECT distinct a.optionalid01 as doi, c.title, d.abstracttext,c.journalname,c.pubyear, c.publicationdate from public.datapull_detail as a inner join public.datapull_uniqueid as b on a.pullsource = b.pullsource AND a.associatedid = b.associatedid inner join public.datapull_title as c on b.uniqueid = c.uniqueid inner join public.datapull_text as d on b.uniqueid = d.uniqueid where d.label = 'BACKGROUND' and c.pubyear in (2017,2018) order by c.pubyear desc limit 25\"\"\")\n",
    "# returns = cur.fetchall()\n",
    "# cur.execute(\"\"\"SELECT b.pullsource, a.title, a.journalname from public.datapull_title as a inner join public.datapull_uniqueid as b on a.uniqueid = b.uniqueid limit 10\"\"\")\n",
    "# returns = cur.fetchall()\n",
    "cur.execute(\"\"\"SELECT distinct e.pullby, a.optionalid01 as doi, c.title, d.abstracttext,c.journalname,c.pubyear, c.publicationdate from public.datapull_detail as a inner join public.datapull_uniqueid as b on a.pullsource = b.pullsource AND a.associatedid = b.associatedid inner join public.datapull_title as c on b.uniqueid = c.uniqueid inner join public.datapull_text as d on b.uniqueid = d.uniqueid inner join public.datapull_id as e on e.pullid = a.pullid where e.pullby = 'Francoise Pickart' and d.label = 'BACKGROUND' and c.pubyear in (2017,2018) order by c.pubyear desc limit 25\"\"\")\n",
    "returns = cur.fetchall()"
   ]
  },
  {
   "cell_type": "code",
   "execution_count": 11,
   "metadata": {},
   "outputs": [
    {
     "data": {
      "text/plain": [
       "'resultsDisasterriskassessmentFrancoisePickart.csv'"
      ]
     },
     "execution_count": 11,
     "metadata": {},
     "output_type": "execute_result"
    }
   ],
   "source": [
    "input_term = \"Disaster risk assessment\"\n",
    "api_key = 'f769b196821d177a5ca1d3252cb0bb2f'\n",
    "input_db = 'pubmed'\n",
    "email_id = 'srand1@health.nyc.gov'\n",
    "pull_requestor = 'Francoise Pickart'\n",
    "csv_file_name = \"results{}{}.csv\".format(input_term,pull_requestor).replace(\" \",\"\")\n",
    "# csv_file_name"
   ]
  },
  {
   "cell_type": "code",
   "execution_count": 13,
   "metadata": {},
   "outputs": [],
   "source": [
    "# returns"
   ]
  },
  {
   "cell_type": "code",
   "execution_count": 16,
   "metadata": {},
   "outputs": [
    {
     "data": {
      "text/plain": [
       "(25, 7)"
      ]
     },
     "execution_count": 16,
     "metadata": {},
     "output_type": "execute_result"
    }
   ],
   "source": [
    "results_df.shape"
   ]
  },
  {
   "cell_type": "code",
   "execution_count": 18,
   "metadata": {},
   "outputs": [
    {
     "data": {
      "text/html": [
       "<div>\n",
       "<style scoped>\n",
       "    .dataframe tbody tr th:only-of-type {\n",
       "        vertical-align: middle;\n",
       "    }\n",
       "\n",
       "    .dataframe tbody tr th {\n",
       "        vertical-align: top;\n",
       "    }\n",
       "\n",
       "    .dataframe thead th {\n",
       "        text-align: right;\n",
       "    }\n",
       "</style>\n",
       "<table border=\"1\" class=\"dataframe\">\n",
       "  <thead>\n",
       "    <tr style=\"text-align: right;\">\n",
       "      <th></th>\n",
       "      <th>requestor</th>\n",
       "      <th>doi</th>\n",
       "      <th>title</th>\n",
       "      <th>abstract_background</th>\n",
       "      <th>journal_name</th>\n",
       "      <th>publication_year</th>\n",
       "      <th>publication_date</th>\n",
       "    </tr>\n",
       "  </thead>\n",
       "  <tbody>\n",
       "    <tr>\n",
       "      <th>0</th>\n",
       "      <td>Francoise Pickart</td>\n",
       "      <td>10.1002/14651858.CD002097.pub4</td>\n",
       "      <td>Primary care professionals providing non-urgen...</td>\n",
       "      <td>In many countries emergency departments (EDs) ...</td>\n",
       "      <td>The Cochrane database of systematic reviews</td>\n",
       "      <td>2018</td>\n",
       "      <td>2018-02-14</td>\n",
       "    </tr>\n",
       "    <tr>\n",
       "      <th>1</th>\n",
       "      <td>Francoise Pickart</td>\n",
       "      <td>10.1177/0885066618761637</td>\n",
       "      <td>Complementary Role of Hypothermia Identificati...</td>\n",
       "      <td>Although the quick Sequential Organ Failure As...</td>\n",
       "      <td>Journal of intensive care medicine</td>\n",
       "      <td>2018</td>\n",
       "      <td>2018-03-17</td>\n",
       "    </tr>\n",
       "    <tr>\n",
       "      <th>2</th>\n",
       "      <td>Francoise Pickart</td>\n",
       "      <td>10.3346/jkms.2018.33.e90</td>\n",
       "      <td>Factors Associated with Post-traumatic Stress ...</td>\n",
       "      <td>The Sewol ferry disaster caused national shock...</td>\n",
       "      <td>Journal of Korean medical science</td>\n",
       "      <td>2018</td>\n",
       "      <td>2018-03-02</td>\n",
       "    </tr>\n",
       "    <tr>\n",
       "      <th>3</th>\n",
       "      <td>Francoise Pickart</td>\n",
       "      <td>10.1002/14651858.CD006211.pub3</td>\n",
       "      <td>Comprehensive geriatric assessment for older a...</td>\n",
       "      <td>Comprehensive geriatric assessment (CGA) is a ...</td>\n",
       "      <td>The Cochrane database of systematic reviews</td>\n",
       "      <td>2017</td>\n",
       "      <td>2017-09-13</td>\n",
       "    </tr>\n",
       "    <tr>\n",
       "      <th>4</th>\n",
       "      <td>Francoise Pickart</td>\n",
       "      <td>10.1002/ajim.22786</td>\n",
       "      <td>Assessment of cumulative health risk in the Wo...</td>\n",
       "      <td>Multiple comorbidities have been reported amon...</td>\n",
       "      <td>American journal of industrial medicine</td>\n",
       "      <td>2017</td>\n",
       "      <td>2017-11-18</td>\n",
       "    </tr>\n",
       "  </tbody>\n",
       "</table>\n",
       "</div>"
      ],
      "text/plain": [
       "           requestor                             doi  \\\n",
       "0  Francoise Pickart  10.1002/14651858.CD002097.pub4   \n",
       "1  Francoise Pickart        10.1177/0885066618761637   \n",
       "2  Francoise Pickart        10.3346/jkms.2018.33.e90   \n",
       "3  Francoise Pickart  10.1002/14651858.CD006211.pub3   \n",
       "4  Francoise Pickart              10.1002/ajim.22786   \n",
       "\n",
       "                                               title  \\\n",
       "0  Primary care professionals providing non-urgen...   \n",
       "1  Complementary Role of Hypothermia Identificati...   \n",
       "2  Factors Associated with Post-traumatic Stress ...   \n",
       "3  Comprehensive geriatric assessment for older a...   \n",
       "4  Assessment of cumulative health risk in the Wo...   \n",
       "\n",
       "                                 abstract_background  \\\n",
       "0  In many countries emergency departments (EDs) ...   \n",
       "1  Although the quick Sequential Organ Failure As...   \n",
       "2  The Sewol ferry disaster caused national shock...   \n",
       "3  Comprehensive geriatric assessment (CGA) is a ...   \n",
       "4  Multiple comorbidities have been reported amon...   \n",
       "\n",
       "                                  journal_name  publication_year  \\\n",
       "0  The Cochrane database of systematic reviews              2018   \n",
       "1           Journal of intensive care medicine              2018   \n",
       "2            Journal of Korean medical science              2018   \n",
       "3  The Cochrane database of systematic reviews              2017   \n",
       "4      American journal of industrial medicine              2017   \n",
       "\n",
       "  publication_date  \n",
       "0       2018-02-14  \n",
       "1       2018-03-17  \n",
       "2       2018-03-02  \n",
       "3       2017-09-13  \n",
       "4       2017-11-18  "
      ]
     },
     "execution_count": 18,
     "metadata": {},
     "output_type": "execute_result"
    }
   ],
   "source": [
    "results_df = pd.DataFrame(returns)\n",
    "results_df.columns = ['requestor','doi','title','abstract_background','journal_name','publication_year','publication_date']\n",
    "results_df.head()"
   ]
  },
  {
   "cell_type": "markdown",
   "metadata": {},
   "source": [
    "### Turn into CSV"
   ]
  },
  {
   "cell_type": "code",
   "execution_count": 19,
   "metadata": {},
   "outputs": [],
   "source": [
    "results_df.to_csv(csv_file_name)"
   ]
  },
  {
   "cell_type": "code",
   "execution_count": null,
   "metadata": {},
   "outputs": [],
   "source": [
    "helper.clean_folder"
   ]
  },
  {
   "cell_type": "code",
   "execution_count": 16,
   "metadata": {},
   "outputs": [],
   "source": [
    "cur.execute(\"\"\"SELECT b.pullsource, a.title, a.journalname from public.datapull_title as a inner join public.datapull_uniqueid as b on a.uniqueid = b.uniqueid limit 10\"\"\")\n",
    "results = cur.fetchall()"
   ]
  },
  {
   "cell_type": "code",
   "execution_count": 20,
   "metadata": {},
   "outputs": [
    {
     "data": {
      "text/plain": [
       "{'journal': 'BMC research notes',\n",
       " 'source': 'pubmed',\n",
       " 'title': 'SCM: a practical tool to implement hospital-based syndromic surveillance.'}"
      ]
     },
     "execution_count": 20,
     "metadata": {},
     "output_type": "execute_result"
    }
   ],
   "source": [
    "names = ('source','title','journal')\n",
    "tup = ('pubmed',\n",
    "  'SCM: a practical tool to implement hospital-based syndromic surveillance.',\n",
    "  'BMC research notes')\n",
    "dict(zip(names,tup))"
   ]
  },
  {
   "cell_type": "code",
   "execution_count": 22,
   "metadata": {},
   "outputs": [],
   "source": [
    "results_dict = [dict(zip(names,r)) for r in results]"
   ]
  },
  {
   "cell_type": "code",
   "execution_count": 23,
   "metadata": {},
   "outputs": [
    {
     "data": {
      "text/plain": [
       "[{'journal': 'BMC research notes',\n",
       "  'source': 'pubmed',\n",
       "  'title': 'SCM: a practical tool to implement hospital-based syndromic surveillance.'},\n",
       " {'journal': 'African health sciences',\n",
       "  'source': 'pubmed',\n",
       "  'title': 'Evaluating the use of cell phone messaging for community Ebola syndromic surveillance in high risked settings in Southern Sierra Leone.'},\n",
       " {'journal': 'Journal of medical Internet research',\n",
       "  'source': 'pubmed',\n",
       "  'title': 'Performance of a Mobile Phone App-Based Participatory Syndromic Surveillance System for Acute Febrile Illness and Acute Gastroenteritis in Rural Guatemala.'},\n",
       " {'journal': 'BMC veterinary research',\n",
       "  'source': 'pubmed',\n",
       "  'title': 'Suitability of sentinel abattoirs for syndromic surveillance using provincially inspected bovine abattoir condemnation data.'},\n",
       " {'journal': 'Prehospital and disaster medicine',\n",
       "  'source': 'pubmed',\n",
       "  'title': 'An Observational Study Using English Syndromic Surveillance Data Collected During the 2012 London Olympics - What did Syndromic Surveillance Show and What Can We Learn for Future Mass-gathering Events?'},\n",
       " {'journal': 'Atencion primaria',\n",
       "  'source': 'pubmed',\n",
       "  'title': '[Syndromic surveillance of Influenza-like illness in primary care: a complement to the sentinel surveillance network for periods of increased incidence of Influenza].'},\n",
       " {'journal': 'Epidemiology and infection',\n",
       "  'source': 'pubmed',\n",
       "  'title': 'Early detection of West Nile virus in France: quantitative assessment of syndromic surveillance system using nervous signs in horses.'},\n",
       " {'journal': 'Tropical medicine & international health : TM & IH',\n",
       "  'source': 'pubmed',\n",
       "  'title': 'Early warning epidemic surveillance in the Pacific island nations: an evaluation of the Pacific syndromic surveillance system.'},\n",
       " {'journal': 'American journal of industrial medicine',\n",
       "  'source': 'pubmed',\n",
       "  'title': 'Evaluation of a state based syndromic surveillance system for the classification and capture of non-fatal occupational injuries and illnesses in New Jersey.'},\n",
       " {'journal': 'Public health reports (Washington, D.C. : 1974)',\n",
       "  'source': 'pubmed',\n",
       "  'title': 'Using an Emergency Department Syndromic Surveillance System to Evaluate Reporting of Potential Rabies Exposures, Illinois, 2013-2015.'}]"
      ]
     },
     "execution_count": 23,
     "metadata": {},
     "output_type": "execute_result"
    }
   ],
   "source": [
    "results_dict"
   ]
  },
  {
   "cell_type": "code",
   "execution_count": 12,
   "metadata": {},
   "outputs": [
    {
     "data": {
      "text/plain": [
       "[('SCM: a practical tool to implement hospital-based syndromic surveillance.',\n",
       "  'BMC research notes'),\n",
       " ('Evaluating the use of cell phone messaging for community Ebola syndromic surveillance in high risked settings in Southern Sierra Leone.',\n",
       "  'African health sciences'),\n",
       " ('Performance of a Mobile Phone App-Based Participatory Syndromic Surveillance System for Acute Febrile Illness and Acute Gastroenteritis in Rural Guatemala.',\n",
       "  'Journal of medical Internet research'),\n",
       " ('Suitability of sentinel abattoirs for syndromic surveillance using provincially inspected bovine abattoir condemnation data.',\n",
       "  'BMC veterinary research'),\n",
       " ('An Observational Study Using English Syndromic Surveillance Data Collected During the 2012 London Olympics - What did Syndromic Surveillance Show and What Can We Learn for Future Mass-gathering Events?',\n",
       "  'Prehospital and disaster medicine'),\n",
       " ('[Syndromic surveillance of Influenza-like illness in primary care: a complement to the sentinel surveillance network for periods of increased incidence of Influenza].',\n",
       "  'Atencion primaria'),\n",
       " ('Early detection of West Nile virus in France: quantitative assessment of syndromic surveillance system using nervous signs in horses.',\n",
       "  'Epidemiology and infection'),\n",
       " ('Early warning epidemic surveillance in the Pacific island nations: an evaluation of the Pacific syndromic surveillance system.',\n",
       "  'Tropical medicine & international health : TM & IH'),\n",
       " ('Evaluation of a state based syndromic surveillance system for the classification and capture of non-fatal occupational injuries and illnesses in New Jersey.',\n",
       "  'American journal of industrial medicine'),\n",
       " ('Using an Emergency Department Syndromic Surveillance System to Evaluate Reporting of Potential Rabies Exposures, Illinois, 2013-2015.',\n",
       "  'Public health reports (Washington, D.C. : 1974)')]"
      ]
     },
     "execution_count": 12,
     "metadata": {},
     "output_type": "execute_result"
    }
   ],
   "source": [
    "cur.execute(\"\"\"SELECT title, journalname from public.datapull_title limit 10\"\"\")\n",
    "cur.fetchall()"
   ]
  },
  {
   "cell_type": "code",
   "execution_count": 181,
   "metadata": {},
   "outputs": [],
   "source": [
    "run_all.main(input_term,input_db,email_id,api_key,cur,con)`b"
   ]
  }
 ],
 "metadata": {
  "kernelspec": {
   "display_name": "Python 3",
   "language": "python",
   "name": "python3"
  },
  "language_info": {
   "codemirror_mode": {
    "name": "ipython",
    "version": 3
   },
   "file_extension": ".py",
   "mimetype": "text/x-python",
   "name": "python",
   "nbconvert_exporter": "python",
   "pygments_lexer": "ipython3",
   "version": "3.6.3"
  }
 },
 "nbformat": 4,
 "nbformat_minor": 2
}
