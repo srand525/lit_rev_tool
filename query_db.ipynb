{
 "cells": [
  {
   "cell_type": "code",
   "execution_count": 1,
   "metadata": {},
   "outputs": [],
   "source": [
    "import helper\n",
    "import requests\n",
    "import importlib"
   ]
  },
  {
   "cell_type": "code",
   "execution_count": 14,
   "metadata": {},
   "outputs": [
    {
     "name": "stdout",
     "output_type": "stream",
     "text": [
      "Connecting to database\n",
      "host='localhost' dbname= 'lit_rev' user='postgres' password='gres'\n"
     ]
    }
   ],
   "source": [
    "con,cur = helper.connect_to_db()"
   ]
  },
  {
   "cell_type": "code",
   "execution_count": 16,
   "metadata": {},
   "outputs": [],
   "source": [
    "cur.execute(\"\"\"SELECT b.pullsource, a.title, a.journalname from public.datapull_title as a inner join public.datapull_uniqueid as b on a.uniqueid = b.uniqueid limit 10\"\"\")\n",
    "results = cur.fetchall()"
   ]
  },
  {
   "cell_type": "code",
   "execution_count": 20,
   "metadata": {},
   "outputs": [
    {
     "data": {
      "text/plain": [
       "{'journal': 'BMC research notes',\n",
       " 'source': 'pubmed',\n",
       " 'title': 'SCM: a practical tool to implement hospital-based syndromic surveillance.'}"
      ]
     },
     "execution_count": 20,
     "metadata": {},
     "output_type": "execute_result"
    }
   ],
   "source": [
    "names = ('source','title','journal')\n",
    "tup = ('pubmed',\n",
    "  'SCM: a practical tool to implement hospital-based syndromic surveillance.',\n",
    "  'BMC research notes')\n",
    "dict(zip(names,tup))"
   ]
  },
  {
   "cell_type": "code",
   "execution_count": 22,
   "metadata": {},
   "outputs": [],
   "source": [
    "results_dict = [dict(zip(names,r)) for r in results]"
   ]
  },
  {
   "cell_type": "code",
   "execution_count": 23,
   "metadata": {},
   "outputs": [
    {
     "data": {
      "text/plain": [
       "[{'journal': 'BMC research notes',\n",
       "  'source': 'pubmed',\n",
       "  'title': 'SCM: a practical tool to implement hospital-based syndromic surveillance.'},\n",
       " {'journal': 'African health sciences',\n",
       "  'source': 'pubmed',\n",
       "  'title': 'Evaluating the use of cell phone messaging for community Ebola syndromic surveillance in high risked settings in Southern Sierra Leone.'},\n",
       " {'journal': 'Journal of medical Internet research',\n",
       "  'source': 'pubmed',\n",
       "  'title': 'Performance of a Mobile Phone App-Based Participatory Syndromic Surveillance System for Acute Febrile Illness and Acute Gastroenteritis in Rural Guatemala.'},\n",
       " {'journal': 'BMC veterinary research',\n",
       "  'source': 'pubmed',\n",
       "  'title': 'Suitability of sentinel abattoirs for syndromic surveillance using provincially inspected bovine abattoir condemnation data.'},\n",
       " {'journal': 'Prehospital and disaster medicine',\n",
       "  'source': 'pubmed',\n",
       "  'title': 'An Observational Study Using English Syndromic Surveillance Data Collected During the 2012 London Olympics - What did Syndromic Surveillance Show and What Can We Learn for Future Mass-gathering Events?'},\n",
       " {'journal': 'Atencion primaria',\n",
       "  'source': 'pubmed',\n",
       "  'title': '[Syndromic surveillance of Influenza-like illness in primary care: a complement to the sentinel surveillance network for periods of increased incidence of Influenza].'},\n",
       " {'journal': 'Epidemiology and infection',\n",
       "  'source': 'pubmed',\n",
       "  'title': 'Early detection of West Nile virus in France: quantitative assessment of syndromic surveillance system using nervous signs in horses.'},\n",
       " {'journal': 'Tropical medicine & international health : TM & IH',\n",
       "  'source': 'pubmed',\n",
       "  'title': 'Early warning epidemic surveillance in the Pacific island nations: an evaluation of the Pacific syndromic surveillance system.'},\n",
       " {'journal': 'American journal of industrial medicine',\n",
       "  'source': 'pubmed',\n",
       "  'title': 'Evaluation of a state based syndromic surveillance system for the classification and capture of non-fatal occupational injuries and illnesses in New Jersey.'},\n",
       " {'journal': 'Public health reports (Washington, D.C. : 1974)',\n",
       "  'source': 'pubmed',\n",
       "  'title': 'Using an Emergency Department Syndromic Surveillance System to Evaluate Reporting of Potential Rabies Exposures, Illinois, 2013-2015.'}]"
      ]
     },
     "execution_count": 23,
     "metadata": {},
     "output_type": "execute_result"
    }
   ],
   "source": [
    "results_dict"
   ]
  },
  {
   "cell_type": "code",
   "execution_count": 12,
   "metadata": {},
   "outputs": [
    {
     "data": {
      "text/plain": [
       "[('SCM: a practical tool to implement hospital-based syndromic surveillance.',\n",
       "  'BMC research notes'),\n",
       " ('Evaluating the use of cell phone messaging for community Ebola syndromic surveillance in high risked settings in Southern Sierra Leone.',\n",
       "  'African health sciences'),\n",
       " ('Performance of a Mobile Phone App-Based Participatory Syndromic Surveillance System for Acute Febrile Illness and Acute Gastroenteritis in Rural Guatemala.',\n",
       "  'Journal of medical Internet research'),\n",
       " ('Suitability of sentinel abattoirs for syndromic surveillance using provincially inspected bovine abattoir condemnation data.',\n",
       "  'BMC veterinary research'),\n",
       " ('An Observational Study Using English Syndromic Surveillance Data Collected During the 2012 London Olympics - What did Syndromic Surveillance Show and What Can We Learn for Future Mass-gathering Events?',\n",
       "  'Prehospital and disaster medicine'),\n",
       " ('[Syndromic surveillance of Influenza-like illness in primary care: a complement to the sentinel surveillance network for periods of increased incidence of Influenza].',\n",
       "  'Atencion primaria'),\n",
       " ('Early detection of West Nile virus in France: quantitative assessment of syndromic surveillance system using nervous signs in horses.',\n",
       "  'Epidemiology and infection'),\n",
       " ('Early warning epidemic surveillance in the Pacific island nations: an evaluation of the Pacific syndromic surveillance system.',\n",
       "  'Tropical medicine & international health : TM & IH'),\n",
       " ('Evaluation of a state based syndromic surveillance system for the classification and capture of non-fatal occupational injuries and illnesses in New Jersey.',\n",
       "  'American journal of industrial medicine'),\n",
       " ('Using an Emergency Department Syndromic Surveillance System to Evaluate Reporting of Potential Rabies Exposures, Illinois, 2013-2015.',\n",
       "  'Public health reports (Washington, D.C. : 1974)')]"
      ]
     },
     "execution_count": 12,
     "metadata": {},
     "output_type": "execute_result"
    }
   ],
   "source": [
    "cur.execute(\"\"\"SELECT title, journalname from public.datapull_title limit 10\"\"\")\n",
    "cur.fetchall()"
   ]
  },
  {
   "cell_type": "code",
   "execution_count": 181,
   "metadata": {},
   "outputs": [],
   "source": [
    "run_all.main(input_term,input_db,email_id,api_key,cur,con)`b"
   ]
  }
 ],
 "metadata": {
  "kernelspec": {
   "display_name": "Python 3",
   "language": "python",
   "name": "python3"
  },
  "language_info": {
   "codemirror_mode": {
    "name": "ipython",
    "version": 3
   },
   "file_extension": ".py",
   "mimetype": "text/x-python",
   "name": "python",
   "nbconvert_exporter": "python",
   "pygments_lexer": "ipython3",
   "version": "3.6.3"
  }
 },
 "nbformat": 4,
 "nbformat_minor": 2
}
