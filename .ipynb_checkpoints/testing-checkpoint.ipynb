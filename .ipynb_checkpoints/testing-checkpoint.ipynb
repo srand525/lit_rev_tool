{
 "cells": [
  {
   "cell_type": "code",
   "execution_count": 1,
   "metadata": {},
   "outputs": [],
   "source": [
    "from flask import Flask\n",
    "from flask import jsonify\n",
    "from flask import request, send_from_directory\n",
    "import psycopg2\n",
    "import datetime\n",
    "from datetime import datetime"
   ]
  },
  {
   "cell_type": "code",
   "execution_count": 2,
   "metadata": {},
   "outputs": [],
   "source": [
    "def connect_to_db():\n",
    "    conn_string = \"host='localhost' dbname= 'lit_rev' user='postgres' password='gres'\"\n",
    "    conn = psycopg2.connect(conn_string)\n",
    "    cursor = conn.cursor()\n",
    "    return conn, cursor"
   ]
  },
  {
   "cell_type": "code",
   "execution_count": 15,
   "metadata": {},
   "outputs": [],
   "source": [
    "con,cur = connect_to_db()\n",
    "title_query = \"\"\"SELECT distinct pullby, pullsource from public.datapull_id\"\"\"\n",
    "cur.execute(title_query)\n",
    "all_users = cur.fetchall()\n",
    "# this_user = all_users[user_id]"
   ]
  },
  {
   "cell_type": "code",
   "execution_count": 19,
   "metadata": {},
   "outputs": [
    {
     "data": {
      "text/plain": [
       "[]"
      ]
     },
     "execution_count": 19,
     "metadata": {},
     "output_type": "execute_result"
    }
   ],
   "source": [
    "con,cur = connect_to_db()\n",
    "query = \"\"\"SELECT distinct *  from public.usecase_submit\"\"\"\n",
    "query_name_run = cur.execute(query)\n",
    "# id_list = [a[0] for a in cur.fetchall()]\n",
    "cur.fetchall()"
   ]
  },
  {
   "cell_type": "code",
   "execution_count": null,
   "metadata": {},
   "outputs": [],
   "source": [
    "insert_query = \"\"\"INSERT INTO public.usecase_submit\n",
    "(firstname,lastname,affiliation,owner,syndromedef,domain,purpose,routine,analysismethod,datasource,results,outcome)\n",
    "VALUES (%s, %s,%s,%s,%s, %s,%s,%s,%s, %s,%s,%s);\"\"\"\n",
    "args = ('Ramona','Lall','NYC DOHMH','BCD','Meningitis','MENING','infectious','disease','identifying cases','routine','ED')\n",
    "cur.execute(insert_query,args)\n",
    "con.commit()"
   ]
  },
  {
   "cell_type": "code",
   "execution_count": null,
   "metadata": {},
   "outputs": [],
   "source": [
    "con,cur = connect_to_db()\n",
    "insert_query = \"\"\"INSERT INTO public.test_table (firstname,lastname) VALUES (%s, %s);\"\"\"\n"
   ]
  },
  {
   "cell_type": "code",
   "execution_count": 18,
   "metadata": {},
   "outputs": [
    {
     "data": {
      "text/plain": [
       "('Sophie', 'pubmed')"
      ]
     },
     "execution_count": 18,
     "metadata": {},
     "output_type": "execute_result"
    }
   ],
   "source": [
    "all_users[0]"
   ]
  },
  {
   "cell_type": "code",
   "execution_count": 17,
   "metadata": {},
   "outputs": [
    {
     "name": "stdout",
     "output_type": "stream",
     "text": [
      "0\n",
      "1\n",
      "2\n"
     ]
    },
    {
     "data": {
      "text/plain": [
       "[None, None, None]"
      ]
     },
     "execution_count": 17,
     "metadata": {},
     "output_type": "execute_result"
    }
   ],
   "source": [
    "[print(i) for i in range(len(all_users))]"
   ]
  },
  {
   "cell_type": "code",
   "execution_count": null,
   "metadata": {},
   "outputs": [],
   "source": [
    "def get_user_data(user_id):\n",
    "    con,cur = connect_to_db()\n",
    "    title_query = \"\"\"SELECT distinct pullby, pullsource from public.datapull_id\"\"\"\n",
    "    cur.execute(title_query)\n",
    "    all_users = cur.fetchall()\n",
    "    this_user = all_users[user_id]\n",
    "    return_data = {'id':user_id,'attributes':\n",
    "        {'firstName':this_user[0],'lastName':this_user[1]}}\n",
    "    return return_data"
   ]
  },
  {
   "cell_type": "code",
   "execution_count": 12,
   "metadata": {},
   "outputs": [
    {
     "name": "stdout",
     "output_type": "stream",
     "text": [
      "0\n",
      "1\n",
      "2\n",
      "3\n"
     ]
    },
    {
     "data": {
      "text/plain": [
       "[None, None, None, None]"
      ]
     },
     "execution_count": 12,
     "metadata": {},
     "output_type": "execute_result"
    }
   ],
   "source": [
    "[print(i) for i in range(4)]"
   ]
  },
  {
   "cell_type": "code",
   "execution_count": null,
   "metadata": {},
   "outputs": [],
   "source": [
    "def serialize(user_data):\n",
    "    return_data = {'id':user_id,'attributes':\n",
    "            {'firstName':u[1][0],'lastName':u[1][1]}}\n",
    "\n",
    "    "
   ]
  },
  {
   "cell_type": "code",
   "execution_count": 10,
   "metadata": {},
   "outputs": [
    {
     "name": "stdout",
     "output_type": "stream",
     "text": [
      "(0, ('Sophie', 'pubmed'))\n",
      "(1, ('Francoise Pickart', 'pubmed'))\n",
      "(2, ('Sophie', 'springer'))\n"
     ]
    }
   ],
   "source": [
    "for u in enumerate(all_users):\n",
    "#     return_data = {'id':u[0],'attributes':\n",
    "#             {'firstName':u[1][0],'lastName':u[1][1]}}\n",
    "#     print(data)\n",
    "    print(u)"
   ]
  },
  {
   "cell_type": "code",
   "execution_count": 17,
   "metadata": {},
   "outputs": [],
   "source": [
    "def query_run(query_id):\n",
    "    con,cur = connect_to_db()\n",
    "    query = \"\"\"SELECT distinct pullid,pullquery,pulldate,pullsource,pullby from public.datapull_id where pullid = {} \"\"\".format(query_id)\n",
    "    query_name_run = cur.execute(query)\n",
    "    query_name = cur.fetchall()[0]\n",
    "    return {\n",
    "        \"type\": \"queries\",                    # It has to have type\n",
    "        \"id\": query_name[0],                      # And some unique identifier\n",
    "        \"attributes\": {                     # Here goes actual payload.\n",
    "            \"term\": query_name[1],\n",
    "            \"pullid\": query_name[0],\n",
    "            \"pulldate\": query_name[2],\n",
    "            \"pullsource\":query_name[3],\n",
    "            \"pullby\":query_name[4] # the only data we have for each user is \"info\" field\n",
    "        },\n",
    "    }"
   ]
  },
  {
   "cell_type": "code",
   "execution_count": 18,
   "metadata": {},
   "outputs": [],
   "source": [
    "con,cur = connect_to_db()\n",
    "query = \"\"\"SELECT distinct pullid as max_pullid from public.datapull_id\"\"\"\n",
    "query_name_run = cur.execute(query)\n",
    "id_list = [a[0] for a in cur.fetchall()]\n",
    "# max_pullid = cur.fetchall()[0][0]+1\n",
    "q_list = []\n",
    "for i in id_list:\n",
    "    q_hist = query_run(i)\n",
    "    q_list.append(q_hist)"
   ]
  },
  {
   "cell_type": "code",
   "execution_count": 19,
   "metadata": {},
   "outputs": [
    {
     "data": {
      "text/plain": [
       "[{'attributes': {'pullby': 'Sophie',\n",
       "   'pulldate': datetime.date(2018, 4, 18),\n",
       "   'pullid': 4,\n",
       "   'pullsource': 'pubmed',\n",
       "   'term': 'syndromic surveillance AND use case'},\n",
       "  'id': 4,\n",
       "  'type': 'queries'},\n",
       " {'attributes': {'pullby': 'Sophie',\n",
       "   'pulldate': datetime.date(2018, 4, 26),\n",
       "   'pullid': 10,\n",
       "   'pullsource': 'springer',\n",
       "   'term': 'syndromic surveillance AND emergency'},\n",
       "  'id': 10,\n",
       "  'type': 'queries'},\n",
       " {'attributes': {'pullby': 'Sophie',\n",
       "   'pulldate': datetime.date(2018, 4, 26),\n",
       "   'pullid': 9,\n",
       "   'pullsource': 'springer',\n",
       "   'term': 'syndromic surveillance AND emergency'},\n",
       "  'id': 9,\n",
       "  'type': 'queries'},\n",
       " {'attributes': {'pullby': 'Sophie',\n",
       "   'pulldate': datetime.date(2018, 4, 26),\n",
       "   'pullid': 7,\n",
       "   'pullsource': 'springer',\n",
       "   'term': 'syndromic+surveillance'},\n",
       "  'id': 7,\n",
       "  'type': 'queries'},\n",
       " {'attributes': {'pullby': 'Sophie',\n",
       "   'pulldate': datetime.date(2018, 4, 26),\n",
       "   'pullid': 15,\n",
       "   'pullsource': 'springer',\n",
       "   'term': 'sentinel surveillance AND emergency room'},\n",
       "  'id': 15,\n",
       "  'type': 'queries'},\n",
       " {'attributes': {'pullby': 'Sophie',\n",
       "   'pulldate': datetime.date(2018, 4, 26),\n",
       "   'pullid': 12,\n",
       "   'pullsource': 'springer',\n",
       "   'term': 'syndromic surveillance AND emergency department'},\n",
       "  'id': 12,\n",
       "  'type': 'queries'},\n",
       " {'attributes': {'pullby': 'Sophie',\n",
       "   'pulldate': datetime.date(2018, 5, 1),\n",
       "   'pullid': 19,\n",
       "   'pullsource': 'pubmed',\n",
       "   'term': 'giardia AND bronx'},\n",
       "  'id': 19,\n",
       "  'type': 'queries'},\n",
       " {'attributes': {'pullby': 'Sophie',\n",
       "   'pulldate': datetime.date(2018, 4, 26),\n",
       "   'pullid': 14,\n",
       "   'pullsource': 'springer',\n",
       "   'term': 'sentinel surveillance AND emergency room'},\n",
       "  'id': 14,\n",
       "  'type': 'queries'},\n",
       " {'attributes': {'pullby': 'Sophie',\n",
       "   'pulldate': datetime.date(2018, 4, 18),\n",
       "   'pullid': 3,\n",
       "   'pullsource': 'pubmed',\n",
       "   'term': 'syndromic surveillance AND emergency room'},\n",
       "  'id': 3,\n",
       "  'type': 'queries'},\n",
       " {'attributes': {'pullby': 'Sophie',\n",
       "   'pulldate': datetime.date(2018, 4, 26),\n",
       "   'pullid': 17,\n",
       "   'pullsource': 'springer',\n",
       "   'term': 'sentinel surveillance'},\n",
       "  'id': 17,\n",
       "  'type': 'queries'},\n",
       " {'attributes': {'pullby': 'Francoise Pickart',\n",
       "   'pulldate': datetime.date(2018, 5, 1),\n",
       "   'pullid': 20,\n",
       "   'pullsource': 'pubmed',\n",
       "   'term': 'Disaster risk assessment'},\n",
       "  'id': 20,\n",
       "  'type': 'queries'},\n",
       " {'attributes': {'pullby': 'Sophie',\n",
       "   'pulldate': datetime.date(2018, 4, 26),\n",
       "   'pullid': 13,\n",
       "   'pullsource': 'springer',\n",
       "   'term': 'syndromic surveillance AND emergency room'},\n",
       "  'id': 13,\n",
       "  'type': 'queries'},\n",
       " {'attributes': {'pullby': 'Sophie',\n",
       "   'pulldate': datetime.date(2018, 4, 18),\n",
       "   'pullid': 1,\n",
       "   'pullsource': 'pubmed',\n",
       "   'term': 'syndromic surveillance'},\n",
       "  'id': 1,\n",
       "  'type': 'queries'},\n",
       " {'attributes': {'pullby': 'Sophie',\n",
       "   'pulldate': datetime.date(2018, 4, 18),\n",
       "   'pullid': 5,\n",
       "   'pullsource': 'pubmed',\n",
       "   'term': 'syndromic surveillance AND situational awareness'},\n",
       "  'id': 5,\n",
       "  'type': 'queries'},\n",
       " {'attributes': {'pullby': 'Sophie',\n",
       "   'pulldate': datetime.date(2018, 4, 26),\n",
       "   'pullid': 18,\n",
       "   'pullsource': 'springer',\n",
       "   'term': 'syndromic surveillance AND situational awareness'},\n",
       "  'id': 18,\n",
       "  'type': 'queries'},\n",
       " {'attributes': {'pullby': 'Sophie',\n",
       "   'pulldate': datetime.date(2018, 4, 18),\n",
       "   'pullid': 2,\n",
       "   'pullsource': 'pubmed',\n",
       "   'term': 'syndromic surveillance AND emergency department'},\n",
       "  'id': 2,\n",
       "  'type': 'queries'},\n",
       " {'attributes': {'pullby': 'Sophie',\n",
       "   'pulldate': datetime.date(2018, 4, 26),\n",
       "   'pullid': 16,\n",
       "   'pullsource': 'springer',\n",
       "   'term': 'sentinel surveillance'},\n",
       "  'id': 16,\n",
       "  'type': 'queries'},\n",
       " {'attributes': {'pullby': 'Sophie',\n",
       "   'pulldate': datetime.date(2018, 4, 26),\n",
       "   'pullid': 11,\n",
       "   'pullsource': 'springer',\n",
       "   'term': 'syndromic surveillance AND emergency department'},\n",
       "  'id': 11,\n",
       "  'type': 'queries'},\n",
       " {'attributes': {'pullby': 'Sophie',\n",
       "   'pulldate': datetime.date(2018, 4, 26),\n",
       "   'pullid': 8,\n",
       "   'pullsource': 'springer',\n",
       "   'term': 'syndromic+surveillance'},\n",
       "  'id': 8,\n",
       "  'type': 'queries'}]"
      ]
     },
     "execution_count": 19,
     "metadata": {},
     "output_type": "execute_result"
    }
   ],
   "source": [
    "q_list"
   ]
  },
  {
   "cell_type": "code",
   "execution_count": 11,
   "metadata": {},
   "outputs": [
    {
     "name": "stdout",
     "output_type": "stream",
     "text": [
      "4\n",
      "10\n",
      "9\n",
      "7\n",
      "15\n",
      "12\n",
      "19\n",
      "14\n",
      "3\n",
      "17\n",
      "20\n",
      "13\n",
      "1\n",
      "5\n",
      "18\n",
      "2\n",
      "16\n",
      "11\n",
      "8\n"
     ]
    }
   ],
   "source": [
    "con,cur = connect_to_db()\n",
    "query = \"\"\"SELECT distinct pullid as max_pullid from public.datapull_id\"\"\"\n",
    "query_name_run = cur.execute(query)\n",
    "# [a[0] for a in cur.fetchall()]\n",
    "id_list = [a[0] for a in cur.fetchall()]\n",
    "    # max_pullid = cur.fetchall()[0][0]+1\n",
    "q_list = []\n",
    "for i in id_list:\n",
    "    print(i)\n",
    "#     q_hist = query(i)\n",
    "#     q_list.append(q_hist)"
   ]
  },
  {
   "cell_type": "code",
   "execution_count": null,
   "metadata": {},
   "outputs": [],
   "source": []
  },
  {
   "cell_type": "code",
   "execution_count": 10,
   "metadata": {},
   "outputs": [
    {
     "data": {
      "text/plain": [
       "[]"
      ]
     },
     "execution_count": 10,
     "metadata": {},
     "output_type": "execute_result"
    }
   ],
   "source": [
    "id_list"
   ]
  },
  {
   "cell_type": "code",
   "execution_count": null,
   "metadata": {},
   "outputs": [],
   "source": []
  }
 ],
 "metadata": {
  "kernelspec": {
   "display_name": "Python 3",
   "language": "python",
   "name": "python3"
  },
  "language_info": {
   "codemirror_mode": {
    "name": "ipython",
    "version": 3
   },
   "file_extension": ".py",
   "mimetype": "text/x-python",
   "name": "python",
   "nbconvert_exporter": "python",
   "pygments_lexer": "ipython3",
   "version": "3.6.3"
  }
 },
 "nbformat": 4,
 "nbformat_minor": 2
}
