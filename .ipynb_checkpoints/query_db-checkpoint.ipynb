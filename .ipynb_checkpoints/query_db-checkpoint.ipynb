{
 "cells": [
  {
   "cell_type": "code",
   "execution_count": 179,
   "metadata": {},
   "outputs": [
    {
     "data": {
      "text/plain": [
       "<module 'run_all' from '/Users/sophierand/Desktop/Github/lit_rev_tool/run_all.py'>"
      ]
     },
     "execution_count": 179,
     "metadata": {},
     "output_type": "execute_result"
    }
   ],
   "source": [
    "import helper\n",
    "import run_all\n",
    "import requests\n",
    "import SpringerFetch\n",
    "import importlib\n",
    "import SpringerPush\n",
    "importlib.reload(SpringerPush)\n",
    "importlib.reload(SpringerFetch)\n",
    "importlib.reload(run_all)"
   ]
  },
  {
   "cell_type": "code",
   "execution_count": 137,
   "metadata": {},
   "outputs": [],
   "source": [
    "helper.clean_folder()"
   ]
  },
  {
   "cell_type": "code",
   "execution_count": 138,
   "metadata": {},
   "outputs": [
    {
     "name": "stdout",
     "output_type": "stream",
     "text": [
      "Connecting to database\n",
      "host='localhost' dbname= 'lit_rev' user='postgres' password='gres'\n"
     ]
    }
   ],
   "source": [
    "con,cur = helper.connect_to_db()"
   ]
  },
  {
   "cell_type": "code",
   "execution_count": 180,
   "metadata": {},
   "outputs": [],
   "source": [
    "input_term = \"syndromic surveillance AND situational awareness\"\n",
    "api_key = 'f769b196821d177a5ca1d3252cb0bb2f'\n",
    "input_db = 'springer'\n",
    "email_id = 'srand1@health.nyc.gov'"
   ]
  },
  {
   "cell_type": "code",
   "execution_count": 181,
   "metadata": {},
   "outputs": [],
   "source": [
    "run_all.main(input_term,input_db,email_id,api_key,cur,con)"
   ]
  }
 ],
 "metadata": {
  "kernelspec": {
   "display_name": "Python 3",
   "language": "python",
   "name": "python3"
  },
  "language_info": {
   "codemirror_mode": {
    "name": "ipython",
    "version": 3
   },
   "file_extension": ".py",
   "mimetype": "text/x-python",
   "name": "python",
   "nbconvert_exporter": "python",
   "pygments_lexer": "ipython3",
   "version": "3.6.3"
  }
 },
 "nbformat": 4,
 "nbformat_minor": 2
}
