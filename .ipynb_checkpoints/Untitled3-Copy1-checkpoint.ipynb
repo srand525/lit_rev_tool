{
 "cells": [
  {
   "cell_type": "code",
   "execution_count": 1,
   "metadata": {},
   "outputs": [
    {
     "data": {
      "text/plain": [
       "<module 'helper' from '/Users/sophierand/Desktop/Github/lit_rev_tool/helper.py'>"
      ]
     },
     "execution_count": 1,
     "metadata": {},
     "output_type": "execute_result"
    }
   ],
   "source": [
    "# import run_search\n",
    "import run_all\n",
    "import json\n",
    "import pickle\n",
    "import importlib\n",
    "import helper\n",
    "import NCBIFetch\n",
    "import datetime\n",
    "# import run_fetch\n",
    "# import clean_folder\n",
    "import PMCParse\n",
    "import PUBMEDParse\n",
    "# importlib.reload(PUBMEDParse)\n",
    "# importlib.reload(PMCParse)\n",
    "# importlib.reload(NCBIFetch)\n",
    "importlib.reload(helper)\n",
    "# # importlib.reload(run_search)\n",
    "# importlib.reload(run_all)"
   ]
  },
  {
   "cell_type": "code",
   "execution_count": 2,
   "metadata": {},
   "outputs": [
    {
     "name": "stdout",
     "output_type": "stream",
     "text": [
      "Connecting to database\n",
      "host='localhost' dbname= 'lit_rev' user='postgres' password='gres'\n"
     ]
    }
   ],
   "source": [
    "con,cur  = helper.connect_to_db()"
   ]
  },
  {
   "cell_type": "code",
   "execution_count": 3,
   "metadata": {},
   "outputs": [],
   "source": [
    "input_term = 'public health'\n",
    "input_db = 'pubmed'\n",
    "email_id = 'srand1@health.nyc.gov'"
   ]
  },
  {
   "cell_type": "code",
   "execution_count": 4,
   "metadata": {},
   "outputs": [
    {
     "ename": "TypeError",
     "evalue": "pub_search() missing 1 required positional argument: 'record_count'",
     "output_type": "error",
     "traceback": [
      "\u001b[0;31m---------------------------------------------------------------------------\u001b[0m",
      "\u001b[0;31mTypeError\u001b[0m                                 Traceback (most recent call last)",
      "\u001b[0;32m<ipython-input-4-1930c1cbcc19>\u001b[0m in \u001b[0;36m<module>\u001b[0;34m()\u001b[0m\n\u001b[0;32m----> 1\u001b[0;31m \u001b[0mrun_all\u001b[0m\u001b[0;34m.\u001b[0m\u001b[0mmain\u001b[0m\u001b[0;34m(\u001b[0m\u001b[0minput_term\u001b[0m\u001b[0;34m,\u001b[0m\u001b[0minput_db\u001b[0m\u001b[0;34m,\u001b[0m\u001b[0memail_id\u001b[0m\u001b[0;34m)\u001b[0m\u001b[0;34m\u001b[0m\u001b[0m\n\u001b[0m\u001b[1;32m      2\u001b[0m \u001b[0;31m# PMCParse.main()\u001b[0m\u001b[0;34m\u001b[0m\u001b[0;34m\u001b[0m\u001b[0m\n",
      "\u001b[0;32m~/Desktop/Github/lit_rev_tool/run_all.py\u001b[0m in \u001b[0;36mmain\u001b[0;34m(input_term, input_db, email_id)\u001b[0m\n\u001b[1;32m     42\u001b[0m \u001b[0;34m\u001b[0m\u001b[0m\n\u001b[1;32m     43\u001b[0m \u001b[0;32mdef\u001b[0m \u001b[0mmain\u001b[0m\u001b[0;34m(\u001b[0m\u001b[0minput_term\u001b[0m\u001b[0;34m,\u001b[0m\u001b[0minput_db\u001b[0m\u001b[0;34m,\u001b[0m\u001b[0memail_id\u001b[0m\u001b[0;34m)\u001b[0m\u001b[0;34m:\u001b[0m\u001b[0;34m\u001b[0m\u001b[0m\n\u001b[0;32m---> 44\u001b[0;31m     \u001b[0mmain_search\u001b[0m\u001b[0;34m(\u001b[0m\u001b[0minput_term\u001b[0m\u001b[0;34m,\u001b[0m\u001b[0minput_db\u001b[0m\u001b[0;34m,\u001b[0m\u001b[0memail_id\u001b[0m\u001b[0;34m)\u001b[0m\u001b[0;34m\u001b[0m\u001b[0m\n\u001b[0m\u001b[1;32m     45\u001b[0m     \u001b[0mmain_fetch\u001b[0m\u001b[0;34m(\u001b[0m\u001b[0minput_db\u001b[0m\u001b[0;34m,\u001b[0m\u001b[0memail_id\u001b[0m\u001b[0;34m)\u001b[0m\u001b[0;34m\u001b[0m\u001b[0m\n\u001b[1;32m     46\u001b[0m     \u001b[0;32mif\u001b[0m \u001b[0minput_db\u001b[0m \u001b[0;34m==\u001b[0m \u001b[0;34m'pmc'\u001b[0m\u001b[0;34m:\u001b[0m\u001b[0;34m\u001b[0m\u001b[0m\n",
      "\u001b[0;32m~/Desktop/Github/lit_rev_tool/run_all.py\u001b[0m in \u001b[0;36mmain_search\u001b[0;34m(input_term, input_db, email_id)\u001b[0m\n\u001b[1;32m     15\u001b[0m     \u001b[0msearch_inst\u001b[0m \u001b[0;34m=\u001b[0m \u001b[0mNCBISearch\u001b[0m\u001b[0;34m.\u001b[0m\u001b[0mncbi_search\u001b[0m\u001b[0;34m(\u001b[0m\u001b[0minput_term\u001b[0m\u001b[0;34m,\u001b[0m\u001b[0minput_db\u001b[0m\u001b[0;34m,\u001b[0m\u001b[0memail_id\u001b[0m\u001b[0;34m)\u001b[0m\u001b[0;34m\u001b[0m\u001b[0m\n\u001b[1;32m     16\u001b[0m \u001b[0;34m\u001b[0m\u001b[0m\n\u001b[0;32m---> 17\u001b[0;31m     \u001b[0mid_list\u001b[0m \u001b[0;34m=\u001b[0m \u001b[0msearch_inst\u001b[0m\u001b[0;34m.\u001b[0m\u001b[0mpub_search\u001b[0m\u001b[0;34m(\u001b[0m\u001b[0;34m)\u001b[0m\u001b[0;34m\u001b[0m\u001b[0m\n\u001b[0m\u001b[1;32m     18\u001b[0m \u001b[0;34m\u001b[0m\u001b[0m\n\u001b[1;32m     19\u001b[0m     \u001b[0mprop_dict\u001b[0m \u001b[0;34m=\u001b[0m \u001b[0msearch_inst\u001b[0m\u001b[0;34m.\u001b[0m\u001b[0msearch_properties\u001b[0m\u001b[0;34m(\u001b[0m\u001b[0;34m)\u001b[0m\u001b[0;34m\u001b[0m\u001b[0m\n",
      "\u001b[0;31mTypeError\u001b[0m: pub_search() missing 1 required positional argument: 'record_count'"
     ]
    }
   ],
   "source": [
    "run_all.main(input_term,input_db,email_id)\n",
    "# PMCParse.main()"
   ]
  },
  {
   "cell_type": "code",
   "execution_count": 8,
   "metadata": {},
   "outputs": [],
   "source": [
    "json_path = \"unique_identifiers.json\"\n",
    "json_file = json.load(open(json_path,\"r\"))\n",
    "# json_file\n",
    "# json_file\n",
    "# most_recent = max(json_file,key = lambda x:x['run_date'])\n",
    "# most_recent"
   ]
  },
  {
   "cell_type": "code",
   "execution_count": 86,
   "metadata": {},
   "outputs": [
    {
     "data": {
      "text/html": [
       "<div>\n",
       "<style scoped>\n",
       "    .dataframe tbody tr th:only-of-type {\n",
       "        vertical-align: middle;\n",
       "    }\n",
       "\n",
       "    .dataframe tbody tr th {\n",
       "        vertical-align: top;\n",
       "    }\n",
       "\n",
       "    .dataframe thead th {\n",
       "        text-align: right;\n",
       "    }\n",
       "</style>\n",
       "<table border=\"1\" class=\"dataframe\">\n",
       "  <thead>\n",
       "    <tr style=\"text-align: right;\">\n",
       "      <th></th>\n",
       "      <th>abstract</th>\n",
       "      <th>associatedId</th>\n",
       "      <th>author</th>\n",
       "      <th>journalISO</th>\n",
       "      <th>journalName</th>\n",
       "      <th>meshterms</th>\n",
       "      <th>optionalId01</th>\n",
       "      <th>optionalId02</th>\n",
       "      <th>publishdate</th>\n",
       "      <th>publishdatefull</th>\n",
       "      <th>pubtype</th>\n",
       "      <th>title</th>\n",
       "    </tr>\n",
       "  </thead>\n",
       "  <tbody>\n",
       "    <tr>\n",
       "      <th>0</th>\n",
       "      <td>[{'label': 'OBJECTIVES', 'nlmcategory': 'OBJEC...</td>\n",
       "      <td>29153972</td>\n",
       "      <td>[{'fname': 'E K', 'lname': 'Tsui', 'affl': 'De...</td>\n",
       "      <td>Public Health</td>\n",
       "      <td>Public health</td>\n",
       "      <td>[{'descriptorname': 'Humans'}, {'descriptornam...</td>\n",
       "      <td>10.1016/j.puhe.2017.10.008</td>\n",
       "      <td>None</td>\n",
       "      <td>{'year': '2017', 'month': '11', 'day': '21'}</td>\n",
       "      <td>11/21/2017</td>\n",
       "      <td>[Journal Article, Review]</td>\n",
       "      <td>Uses of oral history and digital storytelling ...</td>\n",
       "    </tr>\n",
       "    <tr>\n",
       "      <th>1</th>\n",
       "      <td>[{'text': 'The Canadian government decision to...</td>\n",
       "      <td>28759883</td>\n",
       "      <td>[{'fname': 'R T', 'lname': 'Wilson', 'affl': '...</td>\n",
       "      <td>Public Health</td>\n",
       "      <td>Public health</td>\n",
       "      <td>[{'descriptorname': 'Censuses'}, {'descriptorn...</td>\n",
       "      <td>10.1016/j.puhe.2017.05.015</td>\n",
       "      <td>None</td>\n",
       "      <td>{'year': '2017', 'month': '8', 'day': '2'}</td>\n",
       "      <td>8/2/2017</td>\n",
       "      <td>[Journal Article, Review]</td>\n",
       "      <td>Challenges to the census: international trends...</td>\n",
       "    </tr>\n",
       "    <tr>\n",
       "      <th>2</th>\n",
       "      <td>[{'label': 'OBJECTIVES', 'nlmcategory': 'OBJEC...</td>\n",
       "      <td>27931992</td>\n",
       "      <td>[{'fname': 'X X', 'lname': 'Zhan', 'affl': 'De...</td>\n",
       "      <td>Public Health</td>\n",
       "      <td>Public health</td>\n",
       "      <td>[{'descriptorname': 'Adult'}, {'descriptorname...</td>\n",
       "      <td>10.1016/j.puhe.2016.09.007</td>\n",
       "      <td>None</td>\n",
       "      <td>{'year': '2016', 'month': '12', 'day': '10'}</td>\n",
       "      <td>12/10/2016</td>\n",
       "      <td>[Journal Article]</td>\n",
       "      <td>The attitudes of primary healthcare providers ...</td>\n",
       "    </tr>\n",
       "    <tr>\n",
       "      <th>3</th>\n",
       "      <td>[{'label': 'OBJECTIVES', 'nlmcategory': 'OBJEC...</td>\n",
       "      <td>26993202</td>\n",
       "      <td>[{'fname': 'L', 'lname': 'Rosella', 'affl': 'D...</td>\n",
       "      <td>Public Health</td>\n",
       "      <td>Public health</td>\n",
       "      <td>[{'descriptorname': 'Humans'}, {'descriptornam...</td>\n",
       "      <td>10.1016/j.puhe.2015.10.027</td>\n",
       "      <td>None</td>\n",
       "      <td>{'year': '2016', 'month': '3', 'day': '20'}</td>\n",
       "      <td>3/20/2016</td>\n",
       "      <td>[Journal Article]</td>\n",
       "      <td>The development and validation of a meta-tool ...</td>\n",
       "    </tr>\n",
       "    <tr>\n",
       "      <th>4</th>\n",
       "      <td>[{'label': 'OBJECTIVES', 'nlmcategory': 'OBJEC...</td>\n",
       "      <td>27062067</td>\n",
       "      <td>[{'fname': 'P K', 'lname': 'Franklin', 'affl':...</td>\n",
       "      <td>Public Health</td>\n",
       "      <td>Public health</td>\n",
       "      <td>[{'descriptorname': 'European Union'}, {'descr...</td>\n",
       "      <td>10.1016/j.puhe.2016.02.034</td>\n",
       "      <td>None</td>\n",
       "      <td>{'year': '2016', 'month': '4', 'day': '11'}</td>\n",
       "      <td>4/11/2016</td>\n",
       "      <td>[Journal Article]</td>\n",
       "      <td>Public health within the EU policy space: a qu...</td>\n",
       "    </tr>\n",
       "  </tbody>\n",
       "</table>\n",
       "</div>"
      ],
      "text/plain": [
       "                                            abstract associatedId  \\\n",
       "0  [{'label': 'OBJECTIVES', 'nlmcategory': 'OBJEC...     29153972   \n",
       "1  [{'text': 'The Canadian government decision to...     28759883   \n",
       "2  [{'label': 'OBJECTIVES', 'nlmcategory': 'OBJEC...     27931992   \n",
       "3  [{'label': 'OBJECTIVES', 'nlmcategory': 'OBJEC...     26993202   \n",
       "4  [{'label': 'OBJECTIVES', 'nlmcategory': 'OBJEC...     27062067   \n",
       "\n",
       "                                              author     journalISO  \\\n",
       "0  [{'fname': 'E K', 'lname': 'Tsui', 'affl': 'De...  Public Health   \n",
       "1  [{'fname': 'R T', 'lname': 'Wilson', 'affl': '...  Public Health   \n",
       "2  [{'fname': 'X X', 'lname': 'Zhan', 'affl': 'De...  Public Health   \n",
       "3  [{'fname': 'L', 'lname': 'Rosella', 'affl': 'D...  Public Health   \n",
       "4  [{'fname': 'P K', 'lname': 'Franklin', 'affl':...  Public Health   \n",
       "\n",
       "     journalName                                          meshterms  \\\n",
       "0  Public health  [{'descriptorname': 'Humans'}, {'descriptornam...   \n",
       "1  Public health  [{'descriptorname': 'Censuses'}, {'descriptorn...   \n",
       "2  Public health  [{'descriptorname': 'Adult'}, {'descriptorname...   \n",
       "3  Public health  [{'descriptorname': 'Humans'}, {'descriptornam...   \n",
       "4  Public health  [{'descriptorname': 'European Union'}, {'descr...   \n",
       "\n",
       "                 optionalId01 optionalId02  \\\n",
       "0  10.1016/j.puhe.2017.10.008         None   \n",
       "1  10.1016/j.puhe.2017.05.015         None   \n",
       "2  10.1016/j.puhe.2016.09.007         None   \n",
       "3  10.1016/j.puhe.2015.10.027         None   \n",
       "4  10.1016/j.puhe.2016.02.034         None   \n",
       "\n",
       "                                    publishdate publishdatefull  \\\n",
       "0  {'year': '2017', 'month': '11', 'day': '21'}      11/21/2017   \n",
       "1    {'year': '2017', 'month': '8', 'day': '2'}        8/2/2017   \n",
       "2  {'year': '2016', 'month': '12', 'day': '10'}      12/10/2016   \n",
       "3   {'year': '2016', 'month': '3', 'day': '20'}       3/20/2016   \n",
       "4   {'year': '2016', 'month': '4', 'day': '11'}       4/11/2016   \n",
       "\n",
       "                     pubtype  \\\n",
       "0  [Journal Article, Review]   \n",
       "1  [Journal Article, Review]   \n",
       "2          [Journal Article]   \n",
       "3          [Journal Article]   \n",
       "4          [Journal Article]   \n",
       "\n",
       "                                               title  \n",
       "0  Uses of oral history and digital storytelling ...  \n",
       "1  Challenges to the census: international trends...  \n",
       "2  The attitudes of primary healthcare providers ...  \n",
       "3  The development and validation of a meta-tool ...  \n",
       "4  Public health within the EU policy space: a qu...  "
      ]
     },
     "execution_count": 86,
     "metadata": {},
     "output_type": "execute_result"
    }
   ],
   "source": [
    "parse_df = helper.id_run('parse')\n",
    "parse_df.head()"
   ]
  },
  {
   "cell_type": "code",
   "execution_count": 38,
   "metadata": {},
   "outputs": [
    {
     "data": {
      "text/plain": [
       "<module 'PUSH' from '/Users/sophierand/Desktop/Github/LitReviewTool/PUSH.py'>"
      ]
     },
     "execution_count": 38,
     "metadata": {},
     "output_type": "execute_result"
    }
   ],
   "source": [
    "import PUSH\n",
    "importlib.reload(PUSH)"
   ]
  },
  {
   "cell_type": "code",
   "execution_count": 72,
   "metadata": {},
   "outputs": [],
   "source": [
    "cur_id, cur_id_tup = PUSH.pull_id(cur,con,input_term,input_db)"
   ]
  },
  {
   "cell_type": "code",
   "execution_count": 73,
   "metadata": {},
   "outputs": [
    {
     "data": {
      "text/plain": [
       "4"
      ]
     },
     "execution_count": 73,
     "metadata": {},
     "output_type": "execute_result"
    }
   ],
   "source": [
    "cur_id\n",
    "# cur_id_tup"
   ]
  },
  {
   "cell_type": "code",
   "execution_count": 54,
   "metadata": {},
   "outputs": [],
   "source": [
    "# PUSH.pull_detail(cur,con,cur_id_tup,cur_id)"
   ]
  },
  {
   "cell_type": "code",
   "execution_count": 89,
   "metadata": {},
   "outputs": [
    {
     "data": {
      "text/plain": [
       "abstract           [{'label': 'OBJECTIVES', 'nlmcategory': 'OBJEC...\n",
       "associatedId                                                29153972\n",
       "author             [{'fname': 'E K', 'lname': 'Tsui', 'affl': 'De...\n",
       "journalISO                                             Public Health\n",
       "journalName                                            Public health\n",
       "meshterms          [{'descriptorname': 'Humans'}, {'descriptornam...\n",
       "optionalId01                              10.1016/j.puhe.2017.10.008\n",
       "optionalId02                                                    None\n",
       "publishdate             {'year': '2017', 'month': '11', 'day': '21'}\n",
       "publishdatefull                                           11/21/2017\n",
       "pubtype                                    [Journal Article, Review]\n",
       "title              Uses of oral history and digital storytelling ...\n",
       "Name: 0, dtype: object"
      ]
     },
     "execution_count": 89,
     "metadata": {},
     "output_type": "execute_result"
    }
   ],
   "source": [
    "parse_list_fetch.iloc[0]"
   ]
  },
  {
   "cell_type": "code",
   "execution_count": 74,
   "metadata": {},
   "outputs": [
    {
     "data": {
      "text/plain": [
       "(4, 'pubmed', '29153972', 'store', None, '10.1016/j.puhe.2017.10.008', None)"
      ]
     },
     "execution_count": 74,
     "metadata": {},
     "output_type": "execute_result"
    }
   ],
   "source": [
    "associated_id = parse_list_fetch.iloc[0]['associatedId']\n",
    "# pub_type = parse_list_fetch.iloc[0]['pubtype']\n",
    "pull_source = input_db\n",
    "value_store = 'store'\n",
    "optional_id_1 = parse_list_fetch.iloc[0]['optionalId01']\n",
    "optional_id_2 = None\n",
    "note = None\n",
    "detail_args = (cur_id, pull_source,associated_id,value_store,note,optional_id_1,optional_id_2)\n",
    "detail_args"
   ]
  },
  {
   "cell_type": "code",
   "execution_count": 75,
   "metadata": {},
   "outputs": [],
   "source": [
    "detail_ins = \"\"\"INSERT INTO public.datapull_detail(\n",
    "pullid, pullsource, associatedid, valuestore, note, optionalid01, optionalid02)\n",
    "VALUES (%s, %s, %s, %s, %s, %s, %s);\"\"\"\n",
    "\n",
    "\n",
    "# cur.execute(detail_ins,detail_args)\n",
    "# con.commit()\n"
   ]
  },
  {
   "cell_type": "code",
   "execution_count": 88,
   "metadata": {},
   "outputs": [
    {
     "data": {
      "text/plain": [
       "'PUBMED'"
      ]
     },
     "execution_count": 88,
     "metadata": {},
     "output_type": "execute_result"
    }
   ],
   "source": [
    "cur.execute(\"\"\"SELECT pullsource from public.datapull_id  as a where a.pullid = %s\"\"\",cur_id_tup)\n",
    "cur.fetchall()[0][0]"
   ]
  },
  {
   "cell_type": "code",
   "execution_count": 79,
   "metadata": {},
   "outputs": [],
   "source": []
  },
  {
   "cell_type": "code",
   "execution_count": 80,
   "metadata": {},
   "outputs": [
    {
     "data": {
      "text/plain": [
       "[('pubmed', '29153972'), ('pubmed', '29153972')]"
      ]
     },
     "execution_count": 80,
     "metadata": {},
     "output_type": "execute_result"
    }
   ],
   "source": [
    "unique_id_list"
   ]
  },
  {
   "cell_type": "code",
   "execution_count": null,
   "metadata": {},
   "outputs": [],
   "source": [
    "cur_id, cur_id_tup = PUSH.pull_id(cur,con,input_term,input_db)"
   ]
  },
  {
   "cell_type": "code",
   "execution_count": 100,
   "metadata": {},
   "outputs": [],
   "source": [
    "cur.execute(\"SELECT pullsource, associatedid from public.datapull_detail\")\n",
    "unique_id_list = cur.fetchall()\n",
    "note = None\n",
    "values_list = []\n",
    "for index, row in parse_df.iterrows():\n",
    "    pull_id = cur_id\n",
    "    associated_id = row['associatedId']\n",
    "    associated_id_int = int(associated_id)\n",
    "    optional_id_1 = row['optionalId01']\n",
    "    optional_id_2 = row['optionalId02']\n",
    "#     cur.execute(\"\"\"SELECT pullsource from public.datapull_id  as a where a.pullid = %s\"\"\",cur_id_tup)\n",
    "#     pull_source = cur.fetchall()[0][0]\n",
    "    if (pull_source,associated_id) not in unique_id_list:\n",
    "        value_store = 'store'\n",
    "    elif (pull_source,associated_id) in unique_id_list:\n",
    "        value_store = 'duplicate'\n",
    "        parse_df.drop(index, inplace = TRUE)\n",
    "    values_list.append((pull_id,pull_source,associated_id,value_store,note,optional_id_1,optional_id_2)) "
   ]
  },
  {
   "cell_type": "code",
   "execution_count": 97,
   "metadata": {},
   "outputs": [],
   "source": [
    "detail_ins = \"\"\"INSERT INTO public.datapull_detail(\n",
    "pullid, pullsource, associatedid, valuestore, note, optionalid01, optionalid02)\n",
    "VALUES (%s, %s, %s, %s, %s, %s, %s);\"\"\""
   ]
  },
  {
   "cell_type": "code",
   "execution_count": 101,
   "metadata": {},
   "outputs": [
    {
     "data": {
      "text/plain": [
       "[(4, 'PUBMED', '29153972', 'store', None, '10.1016/j.puhe.2017.10.008', None),\n",
       " (4, 'PUBMED', '28759883', 'store', None, '10.1016/j.puhe.2017.05.015', None),\n",
       " (4, 'PUBMED', '27931992', 'store', None, '10.1016/j.puhe.2016.09.007', None),\n",
       " (4, 'PUBMED', '26993202', 'store', None, '10.1016/j.puhe.2015.10.027', None),\n",
       " (4, 'PUBMED', '27062067', 'store', None, '10.1016/j.puhe.2016.02.034', None),\n",
       " (4, 'PUBMED', '26298589', 'store', None, '10.1016/j.puhe.2015.07.028', None),\n",
       " (4, 'PUBMED', '28057203', 'store', None, '10.1016/j.puhe.2016.10.007', None),\n",
       " (4, 'PUBMED', '25917003', 'store', None, '10.1016/j.puhe.2015.03.007', None),\n",
       " (4, 'PUBMED', '26278473', 'store', None, '10.1016/j.puhe.2015.07.019', None),\n",
       " (4, 'PUBMED', '29606282', 'store', None, '10.1016/j.puhe.2018.02.023', None)]"
      ]
     },
     "execution_count": 101,
     "metadata": {},
     "output_type": "execute_result"
    }
   ],
   "source": [
    "values_list"
   ]
  },
  {
   "cell_type": "code",
   "execution_count": 102,
   "metadata": {},
   "outputs": [],
   "source": [
    "cur.executemany(detail_ins,values_list)\n"
   ]
  },
  {
   "cell_type": "code",
   "execution_count": 104,
   "metadata": {},
   "outputs": [],
   "source": [
    "con.commit()"
   ]
  },
  {
   "cell_type": "code",
   "execution_count": 91,
   "metadata": {},
   "outputs": [
    {
     "data": {
      "text/plain": [
       "[('pubmed', '29153972'), ('pubmed', '29153972')]"
      ]
     },
     "execution_count": 91,
     "metadata": {},
     "output_type": "execute_result"
    }
   ],
   "source": [
    "cur.execute(\"SELECT pullsource, associatedid from public.datapull_detail\")\n",
    "cur.fetchall()"
   ]
  },
  {
   "cell_type": "code",
   "execution_count": 92,
   "metadata": {},
   "outputs": [
    {
     "data": {
      "text/plain": [
       "[(3, 'pubmed', '29153972', 'store', None, '10.1016/j.puhe.2017.10.008', None),\n",
       " (4, 'pubmed', '29153972', 'store', None, '10.1016/j.puhe.2017.10.008', None)]"
      ]
     },
     "execution_count": 92,
     "metadata": {},
     "output_type": "execute_result"
    }
   ],
   "source": [
    "cur.execute(\"SELECT * from public.datapull_detail\")\n",
    "cur.fetchall()"
   ]
  },
  {
   "cell_type": "code",
   "execution_count": null,
   "metadata": {},
   "outputs": [],
   "source": []
  }
 ],
 "metadata": {
  "kernelspec": {
   "display_name": "Python 3",
   "language": "python",
   "name": "python3"
  },
  "language_info": {
   "codemirror_mode": {
    "name": "ipython",
    "version": 3
   },
   "file_extension": ".py",
   "mimetype": "text/x-python",
   "name": "python",
   "nbconvert_exporter": "python",
   "pygments_lexer": "ipython3",
   "version": "3.6.3"
  }
 },
 "nbformat": 4,
 "nbformat_minor": 2
}
