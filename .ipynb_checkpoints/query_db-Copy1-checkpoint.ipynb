{
 "cells": [
  {
   "cell_type": "code",
   "execution_count": 85,
   "metadata": {},
   "outputs": [],
   "source": [
    "from flask import Flask\n",
    "from flask import jsonify\n",
    "from flask import request, send_from_directory\n",
    "import psycopg2"
   ]
  },
  {
   "cell_type": "code",
   "execution_count": 94,
   "metadata": {},
   "outputs": [],
   "source": [
    "def title(query_term):\n",
    "    con,cur = connect_to_db()\n",
    "    title_query = \"\"\"SELECT distinct e.pullid,e.pullquery, e.pullby, c.title, c.pubyear from public.datapull_detail as a inner join public.datapull_uniqueid as b on a.pullsource = b.pullsource AND a.associatedid = b.associatedid inner join public.datapull_title as c on b.uniqueid = c.uniqueid inner join public.datapull_text as d on b.uniqueid = d.uniqueid inner join public.datapull_id as e on e.pullid = a.pullid where e.pullquery = '{}' limit 25\"\"\".format(query_term)\n",
    "    cur.execute(title_query)\n",
    "    title_returns = cur.fetchall()\n",
    "    dict_result = [{'attributes':{'pullid':b[0],'query_term':b[1],'pull_by':b[2],'title':b[3],'pub_year':b[4]}} for b in title_returns]\n",
    "    return dict_result\n",
    "\n",
    "# route for all entities\n",
    "# @app.route('/api/titles')\n",
    "def titles():\n",
    "    con,cur = connect_to_db()\n",
    "    term_query = \"\"\"SELECT distinct pullquery from public.datapull_id\"\"\"\n",
    "    cur.execute(term_query)\n",
    "    term_list_fetch = cur.fetchall()\n",
    "    term_list = [b[0] for b in term_list_fetch]\n",
    "    test_list = [title(i) for i in term_list]\n",
    "    return test_list,term_list\n",
    "#     return jsonify({\n",
    "#         \"data\": [title(i) for i in term_list]\n",
    "#         })\n",
    "\n",
    "# routes for individual entities\n",
    "# @app.route('/api/titles/<query_term>')\n",
    "def titles_by_term(query_term):\n",
    "    return jsonify({\"data\": title(query_term)})"
   ]
  },
  {
   "cell_type": "code",
   "execution_count": 117,
   "metadata": {},
   "outputs": [],
   "source": [
    "con,cur = connect_to_db()\n",
    "query_term = \"syndromic surveillance AND use case\"\n",
    "title_query = \"\"\"SELECT distinct e.pullid,e.pullquery, e.pullby, c.title, c.pubyear from public.datapull_detail as a inner join public.datapull_uniqueid as b on a.pullsource = b.pullsource AND a.associatedid = b.associatedid inner join public.datapull_title as c on b.uniqueid = c.uniqueid inner join public.datapull_text as d on b.uniqueid = d.uniqueid inner join public.datapull_id as e on e.pullid = a.pullid where e.pullquery = '{}' limit 25\"\"\".format(query_term)\n",
    "cur.execute(title_query)\n",
    "title_returns = cur.fetchall()\n",
    "#     dict_result = [{'attributes':{'pul"
   ]
  },
  {
   "cell_type": "code",
   "execution_count": 118,
   "metadata": {},
   "outputs": [
    {
     "data": {
      "text/plain": [
       "[(4,\n",
       "  'syndromic surveillance AND use case',\n",
       "  'Sophie',\n",
       "  '\"I-MOVE\" towards monitoring seasonal and pandemic influenza vaccine effectiveness: lessons learnt from a pilot multi-centric case-control study in Europe, 2008-9.',\n",
       "  2009),\n",
       " (4,\n",
       "  'syndromic surveillance AND use case',\n",
       "  'Sophie',\n",
       "  \"'Did you have flu last week?' A telephone survey to estimate a point prevalence of influenza in the Swedish population.\",\n",
       "  2005),\n",
       " (4,\n",
       "  'syndromic surveillance AND use case',\n",
       "  'Sophie',\n",
       "  \"'Did you have flu last week?' A telephone survey to estimate a point prevalence of influenza in the Swedish population.\",\n",
       "  2017),\n",
       " (4,\n",
       "  'syndromic surveillance AND use case',\n",
       "  'Sophie',\n",
       "  \"'Emerging' mycobacteria in South Africa.\",\n",
       "  2010),\n",
       " (4,\n",
       "  'syndromic surveillance AND use case',\n",
       "  'Sophie',\n",
       "  '14-year case series of eyelid sebaceous gland carcinoma in Chinese patients and review of management.',\n",
       "  2018),\n",
       " (4,\n",
       "  'syndromic surveillance AND use case',\n",
       "  'Sophie',\n",
       "  '2009 pandemic influenza A (H1N1) virus outbreak and response--Rwanda, October, 2009-May, 2010.',\n",
       "  2012),\n",
       " (4,\n",
       "  'syndromic surveillance AND use case',\n",
       "  'Sophie',\n",
       "  '2012 outbreak of acute haemorrhagic conjunctivitis in Indian Ocean Islands: identification of Coxsackievirus A24 in a returned traveller.',\n",
       "  2012),\n",
       " (4,\n",
       "  'syndromic surveillance AND use case',\n",
       "  'Sophie',\n",
       "  '2012/13 influenza vaccine effectiveness against hospitalised influenza A(H1N1)pdm09, A(H3N2) and B: estimates from a European network of hospitals.',\n",
       "  2015),\n",
       " (4,\n",
       "  'syndromic surveillance AND use case',\n",
       "  'Sophie',\n",
       "  '2015/16 seasonal vaccine effectiveness against hospitalisation with influenza A(H1N1)pdm09 and B among elderly people in Europe: results from the I-MOVE+ project.',\n",
       "  2017),\n",
       " (4,\n",
       "  'syndromic surveillance AND use case',\n",
       "  'Sophie',\n",
       "  '5 Million Lives Campaign. Case study: an MRSA intervention at Evanston Northwestern Healthcare.',\n",
       "  2008),\n",
       " (4,\n",
       "  'syndromic surveillance AND use case',\n",
       "  'Sophie',\n",
       "  'A 10-year survey of fungal aerocontamination in hospital corridors: a reliable sentinel to predict fungal exposure risk?',\n",
       "  2014),\n",
       " (4,\n",
       "  'syndromic surveillance AND use case',\n",
       "  'Sophie',\n",
       "  'A 17-month evaluation of a chlorine dioxide water treatment system to control Legionella species in a hospital water supply.',\n",
       "  2003),\n",
       " (4,\n",
       "  'syndromic surveillance AND use case',\n",
       "  'Sophie',\n",
       "  'A 5-year comparison of performance of sentinel and mandatory notification surveillance systems for measles in Switzerland.',\n",
       "  2007),\n",
       " (4,\n",
       "  'syndromic surveillance AND use case',\n",
       "  'Sophie',\n",
       "  'A Chryseobacterium meningosepticum outbreak in a neonatal ward.',\n",
       "  2003),\n",
       " (4,\n",
       "  'syndromic surveillance AND use case',\n",
       "  'Sophie',\n",
       "  'A Comparative Assessment of Observational Medical Outcomes Partnership and Mini-Sentinel Common Data Models and Analytics: Implications for Active Drug Safety Surveillance.',\n",
       "  2015),\n",
       " (4,\n",
       "  'syndromic surveillance AND use case',\n",
       "  'Sophie',\n",
       "  'A capture-recapture analysis in a challenging environment: assessing the epidemiological situation of foot-and-mouth disease in Cambodia.',\n",
       "  2012),\n",
       " (4,\n",
       "  'syndromic surveillance AND use case',\n",
       "  'Sophie',\n",
       "  'A case of tick-borne encephalitis in Japan and isolation of the the virus.',\n",
       "  1997),\n",
       " (4,\n",
       "  'syndromic surveillance AND use case',\n",
       "  'Sophie',\n",
       "  'A case-case comparison of Campylobacter coli and Campylobacter jejuni infection: a tool for generating hypotheses.',\n",
       "  2002),\n",
       " (4,\n",
       "  'syndromic surveillance AND use case',\n",
       "  'Sophie',\n",
       "  'A case-control study of atypical scrapie in GB sheep flocks.',\n",
       "  2010),\n",
       " (4,\n",
       "  'syndromic surveillance AND use case',\n",
       "  'Sophie',\n",
       "  'A comparison of missing data procedures for addressing selection bias in HIV sentinel surveillance data.',\n",
       "  2013),\n",
       " (4,\n",
       "  'syndromic surveillance AND use case',\n",
       "  'Sophie',\n",
       "  'A comparison of use of a pyrethroid either for house spraying or for bednet treatment against malaria vectors.',\n",
       "  1998),\n",
       " (4,\n",
       "  'syndromic surveillance AND use case',\n",
       "  'Sophie',\n",
       "  'A comprehensive surveillance of adamantane resistance among human influenza A virus isolated from mainland China between 1956 and 2009.',\n",
       "  2010),\n",
       " (4,\n",
       "  'syndromic surveillance AND use case',\n",
       "  'Sophie',\n",
       "  'A controlled evaluation of case clinical effect coding by poison center specialists for detection of WMD scenarios.',\n",
       "  2011),\n",
       " (4,\n",
       "  'syndromic surveillance AND use case',\n",
       "  'Sophie',\n",
       "  'A description of influenza-like illness (ILI) sentinel surveillance in Cambodia, 2006-2008.',\n",
       "  2010),\n",
       " (4,\n",
       "  'syndromic surveillance AND use case',\n",
       "  'Sophie',\n",
       "  'A description of malaria sentinel surveillance: a case study in Oromia Regional State, Ethiopia.',\n",
       "  2014)]"
      ]
     },
     "execution_count": 118,
     "metadata": {},
     "output_type": "execute_result"
    }
   ],
   "source": [
    "title_returns"
   ]
  },
  {
   "cell_type": "code",
   "execution_count": 120,
   "metadata": {},
   "outputs": [
    {
     "ename": "SyntaxError",
     "evalue": "unexpected EOF while parsing (<ipython-input-120-4a47a34c06fc>, line 2)",
     "output_type": "error",
     "traceback": [
      "\u001b[0;36m  File \u001b[0;32m\"<ipython-input-120-4a47a34c06fc>\"\u001b[0;36m, line \u001b[0;32m2\u001b[0m\n\u001b[0;31m    #     print(t)\u001b[0m\n\u001b[0m                  ^\u001b[0m\n\u001b[0;31mSyntaxError\u001b[0m\u001b[0;31m:\u001b[0m unexpected EOF while parsing\n"
     ]
    }
   ],
   "source": [
    "for t in enumerate(title_returns):\n",
    "#     print(t)"
   ]
  },
  {
   "cell_type": "code",
   "execution_count": 135,
   "metadata": {},
   "outputs": [],
   "source": [
    "title_dict_list = []\n",
    "for t in enumerate(title_returns):\n",
    "    title_dict = {}\n",
    "    title_dict = {\n",
    "        \"type\": \"lit\",\n",
    "        \"id\": t[0],\n",
    "        \"attributes\": {\"title\": t[1][3]}}\n",
    "    title_dict_list.append(title_dict)"
   ]
  },
  {
   "cell_type": "code",
   "execution_count": 136,
   "metadata": {},
   "outputs": [
    {
     "data": {
      "text/plain": [
       "{'attributes': {'title': 'A description of malaria sentinel surveillance: a case study in Oromia Regional State, Ethiopia.'},\n",
       " 'id': 24,\n",
       " 'type': 'lit'}"
      ]
     },
     "execution_count": 136,
     "metadata": {},
     "output_type": "execute_result"
    }
   ],
   "source": [
    "title_dict"
   ]
  },
  {
   "cell_type": "code",
   "execution_count": null,
   "metadata": {},
   "outputs": [],
   "source": []
  },
  {
   "cell_type": "code",
   "execution_count": 108,
   "metadata": {},
   "outputs": [
    {
     "data": {
      "text/plain": [
       "[]"
      ]
     },
     "execution_count": 108,
     "metadata": {},
     "output_type": "execute_result"
    }
   ],
   "source": [
    "title('syndromic surveillance AND emergency')"
   ]
  },
  {
   "cell_type": "code",
   "execution_count": 114,
   "metadata": {},
   "outputs": [
    {
     "data": {
      "text/plain": [
       "[{'attributes': {'pub_year': 2009,\n",
       "   'pull_by': 'Sophie',\n",
       "   'pullid': 4,\n",
       "   'query_term': 'syndromic surveillance AND use case',\n",
       "   'title': '\"I-MOVE\" towards monitoring seasonal and pandemic influenza vaccine effectiveness: lessons learnt from a pilot multi-centric case-control study in Europe, 2008-9.'}},\n",
       " {'attributes': {'pub_year': 2005,\n",
       "   'pull_by': 'Sophie',\n",
       "   'pullid': 4,\n",
       "   'query_term': 'syndromic surveillance AND use case',\n",
       "   'title': \"'Did you have flu last week?' A telephone survey to estimate a point prevalence of influenza in the Swedish population.\"}},\n",
       " {'attributes': {'pub_year': 2017,\n",
       "   'pull_by': 'Sophie',\n",
       "   'pullid': 4,\n",
       "   'query_term': 'syndromic surveillance AND use case',\n",
       "   'title': \"'Did you have flu last week?' A telephone survey to estimate a point prevalence of influenza in the Swedish population.\"}},\n",
       " {'attributes': {'pub_year': 2010,\n",
       "   'pull_by': 'Sophie',\n",
       "   'pullid': 4,\n",
       "   'query_term': 'syndromic surveillance AND use case',\n",
       "   'title': \"'Emerging' mycobacteria in South Africa.\"}},\n",
       " {'attributes': {'pub_year': 2018,\n",
       "   'pull_by': 'Sophie',\n",
       "   'pullid': 4,\n",
       "   'query_term': 'syndromic surveillance AND use case',\n",
       "   'title': '14-year case series of eyelid sebaceous gland carcinoma in Chinese patients and review of management.'}},\n",
       " {'attributes': {'pub_year': 2012,\n",
       "   'pull_by': 'Sophie',\n",
       "   'pullid': 4,\n",
       "   'query_term': 'syndromic surveillance AND use case',\n",
       "   'title': '2009 pandemic influenza A (H1N1) virus outbreak and response--Rwanda, October, 2009-May, 2010.'}},\n",
       " {'attributes': {'pub_year': 2012,\n",
       "   'pull_by': 'Sophie',\n",
       "   'pullid': 4,\n",
       "   'query_term': 'syndromic surveillance AND use case',\n",
       "   'title': '2012 outbreak of acute haemorrhagic conjunctivitis in Indian Ocean Islands: identification of Coxsackievirus A24 in a returned traveller.'}},\n",
       " {'attributes': {'pub_year': 2015,\n",
       "   'pull_by': 'Sophie',\n",
       "   'pullid': 4,\n",
       "   'query_term': 'syndromic surveillance AND use case',\n",
       "   'title': '2012/13 influenza vaccine effectiveness against hospitalised influenza A(H1N1)pdm09, A(H3N2) and B: estimates from a European network of hospitals.'}},\n",
       " {'attributes': {'pub_year': 2017,\n",
       "   'pull_by': 'Sophie',\n",
       "   'pullid': 4,\n",
       "   'query_term': 'syndromic surveillance AND use case',\n",
       "   'title': '2015/16 seasonal vaccine effectiveness against hospitalisation with influenza A(H1N1)pdm09 and B among elderly people in Europe: results from the I-MOVE+ project.'}},\n",
       " {'attributes': {'pub_year': 2008,\n",
       "   'pull_by': 'Sophie',\n",
       "   'pullid': 4,\n",
       "   'query_term': 'syndromic surveillance AND use case',\n",
       "   'title': '5 Million Lives Campaign. Case study: an MRSA intervention at Evanston Northwestern Healthcare.'}},\n",
       " {'attributes': {'pub_year': 2014,\n",
       "   'pull_by': 'Sophie',\n",
       "   'pullid': 4,\n",
       "   'query_term': 'syndromic surveillance AND use case',\n",
       "   'title': 'A 10-year survey of fungal aerocontamination in hospital corridors: a reliable sentinel to predict fungal exposure risk?'}},\n",
       " {'attributes': {'pub_year': 2003,\n",
       "   'pull_by': 'Sophie',\n",
       "   'pullid': 4,\n",
       "   'query_term': 'syndromic surveillance AND use case',\n",
       "   'title': 'A 17-month evaluation of a chlorine dioxide water treatment system to control Legionella species in a hospital water supply.'}},\n",
       " {'attributes': {'pub_year': 2007,\n",
       "   'pull_by': 'Sophie',\n",
       "   'pullid': 4,\n",
       "   'query_term': 'syndromic surveillance AND use case',\n",
       "   'title': 'A 5-year comparison of performance of sentinel and mandatory notification surveillance systems for measles in Switzerland.'}},\n",
       " {'attributes': {'pub_year': 2003,\n",
       "   'pull_by': 'Sophie',\n",
       "   'pullid': 4,\n",
       "   'query_term': 'syndromic surveillance AND use case',\n",
       "   'title': 'A Chryseobacterium meningosepticum outbreak in a neonatal ward.'}},\n",
       " {'attributes': {'pub_year': 2015,\n",
       "   'pull_by': 'Sophie',\n",
       "   'pullid': 4,\n",
       "   'query_term': 'syndromic surveillance AND use case',\n",
       "   'title': 'A Comparative Assessment of Observational Medical Outcomes Partnership and Mini-Sentinel Common Data Models and Analytics: Implications for Active Drug Safety Surveillance.'}},\n",
       " {'attributes': {'pub_year': 2012,\n",
       "   'pull_by': 'Sophie',\n",
       "   'pullid': 4,\n",
       "   'query_term': 'syndromic surveillance AND use case',\n",
       "   'title': 'A capture-recapture analysis in a challenging environment: assessing the epidemiological situation of foot-and-mouth disease in Cambodia.'}},\n",
       " {'attributes': {'pub_year': 1997,\n",
       "   'pull_by': 'Sophie',\n",
       "   'pullid': 4,\n",
       "   'query_term': 'syndromic surveillance AND use case',\n",
       "   'title': 'A case of tick-borne encephalitis in Japan and isolation of the the virus.'}},\n",
       " {'attributes': {'pub_year': 2002,\n",
       "   'pull_by': 'Sophie',\n",
       "   'pullid': 4,\n",
       "   'query_term': 'syndromic surveillance AND use case',\n",
       "   'title': 'A case-case comparison of Campylobacter coli and Campylobacter jejuni infection: a tool for generating hypotheses.'}},\n",
       " {'attributes': {'pub_year': 2010,\n",
       "   'pull_by': 'Sophie',\n",
       "   'pullid': 4,\n",
       "   'query_term': 'syndromic surveillance AND use case',\n",
       "   'title': 'A case-control study of atypical scrapie in GB sheep flocks.'}},\n",
       " {'attributes': {'pub_year': 2013,\n",
       "   'pull_by': 'Sophie',\n",
       "   'pullid': 4,\n",
       "   'query_term': 'syndromic surveillance AND use case',\n",
       "   'title': 'A comparison of missing data procedures for addressing selection bias in HIV sentinel surveillance data.'}},\n",
       " {'attributes': {'pub_year': 1998,\n",
       "   'pull_by': 'Sophie',\n",
       "   'pullid': 4,\n",
       "   'query_term': 'syndromic surveillance AND use case',\n",
       "   'title': 'A comparison of use of a pyrethroid either for house spraying or for bednet treatment against malaria vectors.'}},\n",
       " {'attributes': {'pub_year': 2010,\n",
       "   'pull_by': 'Sophie',\n",
       "   'pullid': 4,\n",
       "   'query_term': 'syndromic surveillance AND use case',\n",
       "   'title': 'A comprehensive surveillance of adamantane resistance among human influenza A virus isolated from mainland China between 1956 and 2009.'}},\n",
       " {'attributes': {'pub_year': 2011,\n",
       "   'pull_by': 'Sophie',\n",
       "   'pullid': 4,\n",
       "   'query_term': 'syndromic surveillance AND use case',\n",
       "   'title': 'A controlled evaluation of case clinical effect coding by poison center specialists for detection of WMD scenarios.'}},\n",
       " {'attributes': {'pub_year': 2010,\n",
       "   'pull_by': 'Sophie',\n",
       "   'pullid': 4,\n",
       "   'query_term': 'syndromic surveillance AND use case',\n",
       "   'title': 'A description of influenza-like illness (ILI) sentinel surveillance in Cambodia, 2006-2008.'}},\n",
       " {'attributes': {'pub_year': 2014,\n",
       "   'pull_by': 'Sophie',\n",
       "   'pullid': 4,\n",
       "   'query_term': 'syndromic surveillance AND use case',\n",
       "   'title': 'A description of malaria sentinel surveillance: a case study in Oromia Regional State, Ethiopia.'}}]"
      ]
     },
     "execution_count": 114,
     "metadata": {},
     "output_type": "execute_result"
    }
   ],
   "source": [
    "d = [c for c in a if c!=[]]\n",
    "d[0]"
   ]
  },
  {
   "cell_type": "code",
   "execution_count": 111,
   "metadata": {},
   "outputs": [],
   "source": [
    "c"
   ]
  },
  {
   "cell_type": "code",
   "execution_count": 83,
   "metadata": {},
   "outputs": [
    {
     "data": {
      "text/plain": [
       "'syndromic surveillance AND use case'"
      ]
     },
     "execution_count": 83,
     "metadata": {},
     "output_type": "execute_result"
    }
   ],
   "source": [
    "con,cur = connect_to_db()\n",
    "query = \"\"\"SELECT distinct pullid,pullquery from public.datapull_id where pullid = {} limit 25\"\"\".format(query_id)\n",
    "query_name_run = cur.execute(query)\n",
    "# query_name = cur.fetchall()[0][0]\n",
    "cur.fetchall()[0][1]"
   ]
  },
  {
   "cell_type": "code",
   "execution_count": 86,
   "metadata": {},
   "outputs": [],
   "source": [
    "def connect_to_db():\n",
    "    conn_string = \"host='localhost' dbname= 'lit_rev' user='postgres' password='gres'\"\n",
    "    conn = psycopg2.connect(conn_string)\n",
    "    cursor = conn.cursor()\n",
    "    return conn, cursor\n",
    "\n",
    "def list_results():\n",
    "    con,cur = connect_to_db()\n",
    "    cur.execute(\"\"\"SELECT distinct pullid,pullquery from public.datapull_id limit 25\"\"\")\n",
    "    returns = cur.fetchall()\n",
    "    return returns"
   ]
  },
  {
   "cell_type": "code",
   "execution_count": 3,
   "metadata": {},
   "outputs": [],
   "source": [
    "def u(user_id):\n",
    "    return {\n",
    "        \"type\": \"users\",                    # It has to have type\n",
    "        \"id\": user_id[0],                      # And some unique identifier\n",
    "        \"attributes\": {                     # Here goes actual payload.\n",
    "            # \"info\": \"data\" + str(user_id),  # the only data we have for each user is \"info\" field\n",
    "            \"query_term\": user_id[1],  # the only data we have for each user is \"info\" field\n",
    "        },\n",
    "    }"
   ]
  },
  {
   "cell_type": "code",
   "execution_count": 70,
   "metadata": {},
   "outputs": [],
   "source": [
    "def u(user_id):\n",
    "    con,cur = connect_to_db()\n",
    "    query_format = \"\"\"SELECT distinct pullquery from public.datapull_id where pullid = {} limit 25\"\"\" .format(user_id)\n",
    "    query_name_run = cur.execute(query_format)\n",
    "    query_name = cur.fetchall()[0][0]\n",
    "    return {\n",
    "        \"type\": \"users\",                    # It has to have type\n",
    "        \"id\": user_id,                      # And some unique identifier\n",
    "        \"attributes\": {                     # Here goes actual payload.\n",
    "            # \"info\": \"data\" + str(user_id),  # the only data we have for each user is \"info\" field\n",
    "            \"query_term\": query_name,  # the only data we have for each user is \"info\" field\n",
    "        },\n",
    "    }\n",
    "\n",
    "# routes for individual entities\n",
    "# @app.route('/api/users/<user_id>')\n",
    "# def users_by_id(user_id):\n",
    "#     return jsonify({\"data\": u(user_id)})\n",
    "\n",
    "# # default route.\n",
    "# # flask has to serve a file that will be generated later with ember\n",
    "# # relative path is backend/static/index.html\n",
    "# @app.route('/')\n",
    "# def root():\n",
    "#     return send_from_directory('static', \"index.html\")\n",
    "\n",
    "\n",
    "# # route for all entities\n",
    "# @app.route('/api/users')\n",
    "def users():\n",
    "#     returns = list_results()\n",
    "    return jsonify({\n",
    "        \"data\": [u(i) for i in list(range(1,5))]\n",
    "        # \"data\": [u(i) for i in returns]\n",
    "        # \"data\": u_list\n",
    "        })"
   ]
  },
  {
   "cell_type": "code",
   "execution_count": 54,
   "metadata": {},
   "outputs": [],
   "source": [
    "nums = list(range(1,10))"
   ]
  },
  {
   "cell_type": "code",
   "execution_count": 69,
   "metadata": {},
   "outputs": [
    {
     "data": {
      "text/plain": [
       "'syndromic+surveillance'"
      ]
     },
     "execution_count": 69,
     "metadata": {},
     "output_type": "execute_result"
    }
   ],
   "source": [
    "query_format = \"\"\"SELECT distinct pullquery from public.datapull_id where pullid = {} limit 25\"\"\" .format(7)\n",
    "query_name_run = cur.execute(query_format)\n",
    "# query_name = cur.fetchall()[0]\n",
    "cur.fetchall()[0][0]"
   ]
  },
  {
   "cell_type": "code",
   "execution_count": 78,
   "metadata": {},
   "outputs": [
    {
     "data": {
      "text/plain": [
       "[(4, 'syndromic surveillance AND use case')]"
      ]
     },
     "execution_count": 78,
     "metadata": {},
     "output_type": "execute_result"
    }
   ],
   "source": [
    "con,cur = connect_to_db()\n",
    "query_id  =4\n",
    "query = \"\"\"SELECT distinct pullid,pullquery from public.datapull_id where pullid = {} limit 25\"\"\".format(query_id)\n",
    "cur.execute(query)\n",
    "cur.fetchall()\n"
   ]
  },
  {
   "cell_type": "code",
   "execution_count": 71,
   "metadata": {},
   "outputs": [
    {
     "ename": "RuntimeError",
     "evalue": "working outside of application context",
     "output_type": "error",
     "traceback": [
      "\u001b[0;31m---------------------------------------------------------------------------\u001b[0m",
      "\u001b[0;31mRuntimeError\u001b[0m                              Traceback (most recent call last)",
      "\u001b[0;32m<ipython-input-71-d5cb9e6148c1>\u001b[0m in \u001b[0;36m<module>\u001b[0;34m()\u001b[0m\n\u001b[0;32m----> 1\u001b[0;31m \u001b[0musers\u001b[0m\u001b[0;34m(\u001b[0m\u001b[0;34m)\u001b[0m\u001b[0;34m\u001b[0m\u001b[0m\n\u001b[0m",
      "\u001b[0;32m<ipython-input-70-4620c39749c9>\u001b[0m in \u001b[0;36musers\u001b[0;34m()\u001b[0m\n\u001b[1;32m     31\u001b[0m \u001b[0;31m#     returns = list_results()\u001b[0m\u001b[0;34m\u001b[0m\u001b[0;34m\u001b[0m\u001b[0m\n\u001b[1;32m     32\u001b[0m     return jsonify({\n\u001b[0;32m---> 33\u001b[0;31m         \u001b[0;34m\"data\"\u001b[0m\u001b[0;34m:\u001b[0m \u001b[0;34m[\u001b[0m\u001b[0mu\u001b[0m\u001b[0;34m(\u001b[0m\u001b[0mi\u001b[0m\u001b[0;34m)\u001b[0m \u001b[0;32mfor\u001b[0m \u001b[0mi\u001b[0m \u001b[0;32min\u001b[0m \u001b[0mlist\u001b[0m\u001b[0;34m(\u001b[0m\u001b[0mrange\u001b[0m\u001b[0;34m(\u001b[0m\u001b[0;36m1\u001b[0m\u001b[0;34m,\u001b[0m\u001b[0;36m5\u001b[0m\u001b[0;34m)\u001b[0m\u001b[0;34m)\u001b[0m\u001b[0;34m]\u001b[0m\u001b[0;34m\u001b[0m\u001b[0m\n\u001b[0m\u001b[1;32m     34\u001b[0m         \u001b[0;31m# \"data\": [u(i) for i in returns]\u001b[0m\u001b[0;34m\u001b[0m\u001b[0;34m\u001b[0m\u001b[0m\n\u001b[1;32m     35\u001b[0m         \u001b[0;31m# \"data\": u_list\u001b[0m\u001b[0;34m\u001b[0m\u001b[0;34m\u001b[0m\u001b[0m\n",
      "\u001b[0;32m/Library/Frameworks/Python.framework/Versions/3.6/lib/python3.6/site-packages/flask/json.py\u001b[0m in \u001b[0;36mjsonify\u001b[0;34m(*args, **kwargs)\u001b[0m\n\u001b[1;32m    232\u001b[0m     \"\"\"\n\u001b[1;32m    233\u001b[0m     \u001b[0mindent\u001b[0m \u001b[0;34m=\u001b[0m \u001b[0;32mNone\u001b[0m\u001b[0;34m\u001b[0m\u001b[0m\n\u001b[0;32m--> 234\u001b[0;31m     \u001b[0;32mif\u001b[0m \u001b[0mcurrent_app\u001b[0m\u001b[0;34m.\u001b[0m\u001b[0mconfig\u001b[0m\u001b[0;34m[\u001b[0m\u001b[0;34m'JSONIFY_PRETTYPRINT_REGULAR'\u001b[0m\u001b[0;34m]\u001b[0m\u001b[0;31m \u001b[0m\u001b[0;31m\\\u001b[0m\u001b[0;34m\u001b[0m\u001b[0m\n\u001b[0m\u001b[1;32m    235\u001b[0m         \u001b[0;32mand\u001b[0m \u001b[0;32mnot\u001b[0m \u001b[0mrequest\u001b[0m\u001b[0;34m.\u001b[0m\u001b[0mis_xhr\u001b[0m\u001b[0;34m:\u001b[0m\u001b[0;34m\u001b[0m\u001b[0m\n\u001b[1;32m    236\u001b[0m         \u001b[0mindent\u001b[0m \u001b[0;34m=\u001b[0m \u001b[0;36m2\u001b[0m\u001b[0;34m\u001b[0m\u001b[0m\n",
      "\u001b[0;32m/Library/Frameworks/Python.framework/Versions/3.6/lib/python3.6/site-packages/werkzeug/local.py\u001b[0m in \u001b[0;36m__getattr__\u001b[0;34m(self, name)\u001b[0m\n\u001b[1;32m    345\u001b[0m         \u001b[0;32mif\u001b[0m \u001b[0mname\u001b[0m \u001b[0;34m==\u001b[0m \u001b[0;34m'__members__'\u001b[0m\u001b[0;34m:\u001b[0m\u001b[0;34m\u001b[0m\u001b[0m\n\u001b[1;32m    346\u001b[0m             \u001b[0;32mreturn\u001b[0m \u001b[0mdir\u001b[0m\u001b[0;34m(\u001b[0m\u001b[0mself\u001b[0m\u001b[0;34m.\u001b[0m\u001b[0m_get_current_object\u001b[0m\u001b[0;34m(\u001b[0m\u001b[0;34m)\u001b[0m\u001b[0;34m)\u001b[0m\u001b[0;34m\u001b[0m\u001b[0m\n\u001b[0;32m--> 347\u001b[0;31m         \u001b[0;32mreturn\u001b[0m \u001b[0mgetattr\u001b[0m\u001b[0;34m(\u001b[0m\u001b[0mself\u001b[0m\u001b[0;34m.\u001b[0m\u001b[0m_get_current_object\u001b[0m\u001b[0;34m(\u001b[0m\u001b[0;34m)\u001b[0m\u001b[0;34m,\u001b[0m \u001b[0mname\u001b[0m\u001b[0;34m)\u001b[0m\u001b[0;34m\u001b[0m\u001b[0m\n\u001b[0m\u001b[1;32m    348\u001b[0m \u001b[0;34m\u001b[0m\u001b[0m\n\u001b[1;32m    349\u001b[0m     \u001b[0;32mdef\u001b[0m \u001b[0m__setitem__\u001b[0m\u001b[0;34m(\u001b[0m\u001b[0mself\u001b[0m\u001b[0;34m,\u001b[0m \u001b[0mkey\u001b[0m\u001b[0;34m,\u001b[0m \u001b[0mvalue\u001b[0m\u001b[0;34m)\u001b[0m\u001b[0;34m:\u001b[0m\u001b[0;34m\u001b[0m\u001b[0m\n",
      "\u001b[0;32m/Library/Frameworks/Python.framework/Versions/3.6/lib/python3.6/site-packages/werkzeug/local.py\u001b[0m in \u001b[0;36m_get_current_object\u001b[0;34m(self)\u001b[0m\n\u001b[1;32m    304\u001b[0m         \"\"\"\n\u001b[1;32m    305\u001b[0m         \u001b[0;32mif\u001b[0m \u001b[0;32mnot\u001b[0m \u001b[0mhasattr\u001b[0m\u001b[0;34m(\u001b[0m\u001b[0mself\u001b[0m\u001b[0;34m.\u001b[0m\u001b[0m__local\u001b[0m\u001b[0;34m,\u001b[0m \u001b[0;34m'__release_local__'\u001b[0m\u001b[0;34m)\u001b[0m\u001b[0;34m:\u001b[0m\u001b[0;34m\u001b[0m\u001b[0m\n\u001b[0;32m--> 306\u001b[0;31m             \u001b[0;32mreturn\u001b[0m \u001b[0mself\u001b[0m\u001b[0;34m.\u001b[0m\u001b[0m__local\u001b[0m\u001b[0;34m(\u001b[0m\u001b[0;34m)\u001b[0m\u001b[0;34m\u001b[0m\u001b[0m\n\u001b[0m\u001b[1;32m    307\u001b[0m         \u001b[0;32mtry\u001b[0m\u001b[0;34m:\u001b[0m\u001b[0;34m\u001b[0m\u001b[0m\n\u001b[1;32m    308\u001b[0m             \u001b[0;32mreturn\u001b[0m \u001b[0mgetattr\u001b[0m\u001b[0;34m(\u001b[0m\u001b[0mself\u001b[0m\u001b[0;34m.\u001b[0m\u001b[0m__local\u001b[0m\u001b[0;34m,\u001b[0m \u001b[0mself\u001b[0m\u001b[0;34m.\u001b[0m\u001b[0m__name__\u001b[0m\u001b[0;34m)\u001b[0m\u001b[0;34m\u001b[0m\u001b[0m\n",
      "\u001b[0;32m/Library/Frameworks/Python.framework/Versions/3.6/lib/python3.6/site-packages/flask/globals.py\u001b[0m in \u001b[0;36m_find_app\u001b[0;34m()\u001b[0m\n\u001b[1;32m     32\u001b[0m     \u001b[0mtop\u001b[0m \u001b[0;34m=\u001b[0m \u001b[0m_app_ctx_stack\u001b[0m\u001b[0;34m.\u001b[0m\u001b[0mtop\u001b[0m\u001b[0;34m\u001b[0m\u001b[0m\n\u001b[1;32m     33\u001b[0m     \u001b[0;32mif\u001b[0m \u001b[0mtop\u001b[0m \u001b[0;32mis\u001b[0m \u001b[0;32mNone\u001b[0m\u001b[0;34m:\u001b[0m\u001b[0;34m\u001b[0m\u001b[0m\n\u001b[0;32m---> 34\u001b[0;31m         \u001b[0;32mraise\u001b[0m \u001b[0mRuntimeError\u001b[0m\u001b[0;34m(\u001b[0m\u001b[0;34m'working outside of application context'\u001b[0m\u001b[0;34m)\u001b[0m\u001b[0;34m\u001b[0m\u001b[0m\n\u001b[0m\u001b[1;32m     35\u001b[0m     \u001b[0;32mreturn\u001b[0m \u001b[0mtop\u001b[0m\u001b[0;34m.\u001b[0m\u001b[0mapp\u001b[0m\u001b[0;34m\u001b[0m\u001b[0m\n\u001b[1;32m     36\u001b[0m \u001b[0;34m\u001b[0m\u001b[0m\n",
      "\u001b[0;31mRuntimeError\u001b[0m: working outside of application context"
     ]
    }
   ],
   "source": [
    "users()"
   ]
  },
  {
   "cell_type": "code",
   "execution_count": 21,
   "metadata": {},
   "outputs": [
    {
     "data": {
      "text/plain": [
       "[1, 2, 3, 4, 5, 6, 7, 8, 9, 10, 11, 12, 13, 14, 15, 16, 17, 18, 19, 20]"
      ]
     },
     "execution_count": 21,
     "metadata": {},
     "output_type": "execute_result"
    }
   ],
   "source": [
    "list(range(1,21))"
   ]
  },
  {
   "cell_type": "code",
   "execution_count": 8,
   "metadata": {},
   "outputs": [],
   "source": [
    "def users_by_id(user_id):\n",
    "    return jsonify({\"data\": u(user_id)})"
   ]
  },
  {
   "cell_type": "code",
   "execution_count": 39,
   "metadata": {},
   "outputs": [],
   "source": [
    "user_id = 1\n",
    "# query_format = \"\"\"SELECT distinct pullquery from public.datapull_id where pullid = {} limit 25\"\"\" .format(user_id)\n",
    "query_format = \"\"\"SELECT distinct pullquery from public.datapull_id limit 25\"\"\" "
   ]
  },
  {
   "cell_type": "code",
   "execution_count": 23,
   "metadata": {},
   "outputs": [
    {
     "data": {
      "text/plain": [
       "'SELECT distinct pullquery from public.datapull_id where pullid = 1 limit 25'"
      ]
     },
     "execution_count": 23,
     "metadata": {},
     "output_type": "execute_result"
    }
   ],
   "source": [
    "query_format"
   ]
  },
  {
   "cell_type": "code",
   "execution_count": 40,
   "metadata": {},
   "outputs": [],
   "source": [
    "con,cur = connect_to_db()"
   ]
  },
  {
   "cell_type": "code",
   "execution_count": 41,
   "metadata": {},
   "outputs": [],
   "source": [
    "cur.execute(query_format)"
   ]
  },
  {
   "cell_type": "code",
   "execution_count": 42,
   "metadata": {},
   "outputs": [],
   "source": [
    "a = cur.fetchall()"
   ]
  },
  {
   "cell_type": "code",
   "execution_count": 47,
   "metadata": {},
   "outputs": [
    {
     "data": {
      "text/plain": [
       "[('syndromic surveillance AND use case',),\n",
       " ('Disaster risk assessment',),\n",
       " ('syndromic surveillance AND emergency room',),\n",
       " ('syndromic surveillance',),\n",
       " ('syndromic surveillance AND situational awareness',),\n",
       " ('giardia AND bronx',),\n",
       " ('sentinel surveillance',),\n",
       " ('sentinel surveillance AND emergency room',),\n",
       " ('syndromic+surveillance',),\n",
       " ('syndromic surveillance AND emergency department',),\n",
       " ('syndromic surveillance AND emergency',)]"
      ]
     },
     "execution_count": 47,
     "metadata": {},
     "output_type": "execute_result"
    }
   ],
   "source": [
    "a"
   ]
  },
  {
   "cell_type": "code",
   "execution_count": 46,
   "metadata": {},
   "outputs": [
    {
     "data": {
      "text/plain": [
       "['syndromic surveillance AND use case',\n",
       " 'Disaster risk assessment',\n",
       " 'syndromic surveillance AND emergency room',\n",
       " 'syndromic surveillance',\n",
       " 'syndromic surveillance AND situational awareness',\n",
       " 'giardia AND bronx',\n",
       " 'sentinel surveillance',\n",
       " 'sentinel surveillance AND emergency room',\n",
       " 'syndromic+surveillance',\n",
       " 'syndromic surveillance AND emergency department',\n",
       " 'syndromic surveillance AND emergency']"
      ]
     },
     "execution_count": 46,
     "metadata": {},
     "output_type": "execute_result"
    }
   ],
   "source": [
    "[b[0] for b in a]"
   ]
  },
  {
   "cell_type": "code",
   "execution_count": 34,
   "metadata": {},
   "outputs": [
    {
     "data": {
      "text/plain": [
       "('syndromic surveillance',)"
      ]
     },
     "execution_count": 34,
     "metadata": {},
     "output_type": "execute_result"
    }
   ],
   "source": [
    "a[0]"
   ]
  },
  {
   "cell_type": "code",
   "execution_count": 35,
   "metadata": {},
   "outputs": [
    {
     "data": {
      "text/plain": [
       "('syndromic surveillance',)"
      ]
     },
     "execution_count": 35,
     "metadata": {},
     "output_type": "execute_result"
    }
   ],
   "source": [
    "a[0]"
   ]
  },
  {
   "cell_type": "code",
   "execution_count": 38,
   "metadata": {},
   "outputs": [
    {
     "data": {
      "text/plain": [
       "'syndromic surveillance'"
      ]
     },
     "execution_count": 38,
     "metadata": {},
     "output_type": "execute_result"
    }
   ],
   "source": [
    "a[0][0]"
   ]
  },
  {
   "cell_type": "code",
   "execution_count": null,
   "metadata": {},
   "outputs": [],
   "source": []
  }
 ],
 "metadata": {
  "kernelspec": {
   "display_name": "Python 3",
   "language": "python",
   "name": "python3"
  },
  "language_info": {
   "codemirror_mode": {
    "name": "ipython",
    "version": 3
   },
   "file_extension": ".py",
   "mimetype": "text/x-python",
   "name": "python",
   "nbconvert_exporter": "python",
   "pygments_lexer": "ipython3",
   "version": "3.6.3"
  }
 },
 "nbformat": 4,
 "nbformat_minor": 2
}
